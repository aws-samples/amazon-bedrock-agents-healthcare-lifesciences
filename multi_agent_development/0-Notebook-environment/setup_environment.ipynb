{
 "cells": [
  {
   "cell_type": "markdown",
   "id": "045a7b02-6a49-4b6d-b11f-43ed4ad3f190",
   "metadata": {
    "tags": []
   },
   "source": [
    "# Prepare Notebook Environment for Biomarker Agents\n",
    "In this section we prepare this notebook environment with the necessary dependencies to create all Biomarker agents. You only need to run through this notebook, utils.ipynb simply contains imports that will be used throughout the multi-agent development process."
   ]
  },
  {
   "cell_type": "markdown",
   "id": "be755083-73cf-48b0-8d2f-06769d176503",
   "metadata": {},
   "source": [
    "#### Run the pip3 commands below to install all needed packages"
   ]
  },
  {
   "cell_type": "code",
   "execution_count": null,
   "id": "22cff0fe-0fc5-455c-a8b7-88f7711afba7",
   "metadata": {},
   "outputs": [],
   "source": [
    "!pip3 install -r requirements.txt\n",
    "!pip3 install --upgrade boto3\n",
    "!pip3 show boto3"
   ]
  },
  {
   "cell_type": "markdown",
   "id": "057a6dc9-bfea-44ce-8a7d-36fa5aca1d97",
   "metadata": {},
   "source": [
    "#### Ensure the latest version of boto3 is shown below"
   ]
  },
  {
   "cell_type": "code",
   "execution_count": null,
   "id": "5aaf9d4b-6c68-452b-be00-65aee9ec8af4",
   "metadata": {
    "tags": []
   },
   "outputs": [],
   "source": [
    "!pip freeze | grep boto3"
   ]
  },
  {
   "cell_type": "markdown",
   "id": "3d89cd8b-73ff-4cef-b040-31cc4e4b0233",
   "metadata": {},
   "source": [
    "#### Import all needed Python libraries"
   ]
  },
  {
   "cell_type": "code",
   "execution_count": null,
   "id": "f56fe856-e1d4-42f1-aaf0-424f04ff4ba9",
   "metadata": {},
   "outputs": [],
   "source": [
    "IMPORTS_PATH = \"/home/ec2-user/SageMaker/multi_agent_development/0-Notebook-environment/utils.ipynb\"\n",
    "%store IMPORTS_PATH"
   ]
  },
  {
   "cell_type": "code",
   "execution_count": null,
   "id": "4ac91f55-082e-4508-815a-2e36013d1841",
   "metadata": {},
   "outputs": [],
   "source": [
    "%run $IMPORTS_PATH"
   ]
  },
  {
   "cell_type": "markdown",
   "id": "17e2d364-aab0-45fc-bf0f-2ad4bd8d9918",
   "metadata": {},
   "source": [
    "#### Extract account information needed for agent creation and define needed agent models"
   ]
  },
  {
   "cell_type": "code",
   "execution_count": null,
   "id": "657e0b1a-d4ff-4cfc-bb50-b64f888ca773",
   "metadata": {},
   "outputs": [],
   "source": [
    "# boto3 session\n",
    "sts_client = boto3.client('sts')\n",
    "session = boto3.session.Session()\n",
    "\n",
    "# Account info\n",
    "account_id = sts_client.get_caller_identity()[\"Account\"]\n",
    "region = session.region_name\n",
    "\n",
    "# FM used for all Biomarker sub-agents, this version needed for agent collaboration\n",
    "agent_foundation_model = [\"anthropic.claude-3-5-sonnet-20241022-v2:0\"]\n",
    "\n",
    "# Supervisor agent needs cross-inference model to avoid throttling issues\n",
    "supervisor_agent_foundation_model = [\"anthropic.claude-3-5-sonnet-20241022-v2:0\"]"
   ]
  },
  {
   "cell_type": "markdown",
   "id": "9c6a97f3-d0a7-4715-b24d-7cb1f3fda07a",
   "metadata": {},
   "source": [
    "#### Store all needed variables in environment for future use in development"
   ]
  },
  {
   "cell_type": "code",
   "execution_count": null,
   "id": "70ef6cb8-0b7b-42ee-8c91-673bbea5b126",
   "metadata": {
    "tags": []
   },
   "outputs": [],
   "source": [
    "# Store account info\n",
    "%store account_id\n",
    "%store region\n",
    "\n",
    "# Store model lists\n",
    "%store agent_foundation_model\n",
    "%store supervisor_agent_foundation_model"
   ]
  },
  {
   "cell_type": "markdown",
   "id": "139313c1-923b-4a14-ad29-43bfbdedacd9",
   "metadata": {},
   "source": [
    "#### Navigate to the SageMaker Notebook execution role displayed below in IAM and attach the following policies: \n",
    "\n",
    "##### [\"BedrockFullAccess\", \"IAMFullAccess\", \"AmazonSSMFullAccess\", \"AWSLambda_FullAccess\"]\n",
    "\n",
    "Give a few minutes for these permissions to update"
   ]
  },
  {
   "cell_type": "code",
   "execution_count": null,
   "id": "cd013e32-049b-44d5-925e-b46f0778f46a",
   "metadata": {},
   "outputs": [],
   "source": [
    "# Output SageMaker Notebook execution role for user to add policies to\n",
    "\n",
    "# Get the SageMaker session\n",
    "sagemaker_session = sagemaker.Session()\n",
    "\n",
    "# Get the execution role\n",
    "role = sagemaker_session.get_caller_identity_arn()\n",
    "\n",
    "print(f\"SageMaker Execution Role: {role}\")"
   ]
  },
  {
   "cell_type": "markdown",
   "id": "62cf3207-9bad-4be7-8dc9-378b8c487819",
   "metadata": {},
   "source": [
    "#### Ensure that you have access to Bedrock models needed by the agents\n",
    "If you have to enable model access, give a couple minutes before proceeding with agent creation"
   ]
  },
  {
   "cell_type": "code",
   "execution_count": null,
   "id": "f6713434-174f-440b-969f-9dd0d902a982",
   "metadata": {},
   "outputs": [],
   "source": [
    "# Define bedrock client\n",
    "bedrock_client = boto3.client('bedrock', region)\n",
    "\n",
    "# List the foundation models in account\n",
    "response = bedrock_client.list_foundation_models()\n",
    "\n",
    "# Extract model names\n",
    "model_summaries = response['modelSummaries']\n",
    "model_names = [model['modelName'] for model in model_summaries]\n",
    "\n",
    "# Ensures that this list has the models 'Claude Sonnet 3.5' and 'Claude 3.5 Sonnet v2' for agent use\n",
    "\n",
    "if 'Claude Sonnet 3.5' and 'Claude 3.5 Sonnet v2' in model_names:\n",
    "    print(\"You have access to all models needed!\")\n",
    "else:\n",
    "    print(\"Enable access to both 'Claude Sonnet 3.5' and 'Claude 3.5 Sonnet v2' models using the Bedrock console\")"
   ]
  }
 ],
 "metadata": {
  "kernelspec": {
   "display_name": "conda_python3",
   "language": "python",
   "name": "conda_python3"
  },
  "language_info": {
   "codemirror_mode": {
    "name": "ipython",
    "version": 3
   },
   "file_extension": ".py",
   "mimetype": "text/x-python",
   "name": "python",
   "nbconvert_exporter": "python",
   "pygments_lexer": "ipython3",
   "version": "3.10.16"
  }
 },
 "nbformat": 4,
 "nbformat_minor": 5
}
