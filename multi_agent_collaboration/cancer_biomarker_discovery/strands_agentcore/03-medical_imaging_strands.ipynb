{
 "cells": [
  {
   "cell_type": "markdown",
   "id": "24cee39a-a77d-4493-a532-56935aa07fd8",
   "metadata": {
    "tags": []
   },
   "source": [
    "# Medical Imaging Expert Agent with Strands\n",
    "In this notebook we create the medical imaging expert agent using the open-source Strands agents framework"
   ]
  },
  {
   "cell_type": "markdown",
   "id": "3c401dd7-dd66-44cd-a02a-fcdd95d98605",
   "metadata": {},
   "source": [
    "#### Install Strands agents and required dependencies"
   ]
  },
  {
   "cell_type": "code",
   "execution_count": null,
   "id": "install-strands",
   "metadata": {},
   "outputs": [],
   "source": [
    "%pip install strands-agents strands-agents-tools --quiet"
   ]
  },
  {
   "cell_type": "markdown",
   "id": "environment-check",
   "metadata": {},
   "source": [
    "#### Ensure the latest version of boto3 is shown below\n",
    "Ensure the boto3 version printed below is **1.37.1** or higher."
   ]
  },
  {
   "cell_type": "code",
   "execution_count": null,
   "id": "73745fd0-9df8-4f95-b58e-843c958840ac",
   "metadata": {
    "tags": []
   },
   "outputs": [],
   "source": [
    "%pip show boto3"
   ]
  },
  {
   "cell_type": "markdown",
   "id": "8ef228e7-54c0-4925-8c06-6d172ab3286c",
   "metadata": {},
   "source": [
    "#### Import required libraries"
   ]
  },
  {
   "cell_type": "code",
   "execution_count": null,
   "id": "ae4b0cf3-76bf-4287-9b40-cc14566ebf8b",
   "metadata": {
    "tags": []
   },
   "outputs": [],
   "source": [
    "import os\n",
    "import boto3\n",
    "import json\n",
    "import uuid\n",
    "import requests\n",
    "import io\n",
    "import pandas as pd\n",
    "from typing import Dict, Any, List\n",
    "from strands import Agent, tool\n",
    "from strands.models import BedrockModel\n",
    "from utils.boto3_helper import *\n",
    "\n",
    "# Get AWS account information\n",
    "sts_client = boto3.client('sts')\n",
    "account_id = sts_client.get_caller_identity()['Account']\n",
    "region = boto3.Session().region_name"
   ]
  },
  {
   "cell_type": "markdown",
   "id": "8c5ecfce-78c8-4721-a4e6-35a7745d8871",
   "metadata": {
    "tags": []
   },
   "source": [
    "## Prerequisites\n",
    "\n",
    "Run through the notebook environment setup in [00-setup_environment.ipynb](00-setup_environment.ipynb)."
   ]
  },
  {
   "cell_type": "markdown",
   "id": "setup-lambda",
   "metadata": {},
   "source": [
    "#### Setup Lambda function configuration\n",
    "We'll reuse the existing Lambda function for medical imaging operations"
   ]
  },
  {
   "cell_type": "code",
   "execution_count": null,
   "id": "lambda-config",
   "metadata": {},
   "outputs": [],
   "source": [
    "# Initialize AWS clients\n",
    "bedrock_client = boto3.client('bedrock-runtime', region_name=region)\n",
    "sfn_client = boto3.client('stepfunctions')\n",
    "s3_client = boto3.client('s3')\n",
    "\n",
    "# Retrieve state machine and bucket information\n",
    "sfn_statemachine_arn = find_state_machine_arn_by_prefix('ImagingStateMachine-')\n",
    "if not sfn_statemachine_arn:\n",
    "    print(\"Error: State machine with prefix 'ImagingStateMachine-' not found!\")\n",
    "\n",
    "s3_bucket = find_s3_bucket_name_by_suffix('-agent-build-bucket')\n",
    "if not s3_bucket:\n",
    "    print(\"Error: S3 bucket with suffix '-agent-build-bucket' not found!\")\n",
    "bucket_name = s3_bucket.replace(\"s3://\", \"\")\n",
    "\n",
    "print(f\"Region: {region}\")\n",
    "print(f\"Account ID: {account_id}\")\n",
    "print(f\"State Machine: {sfn_statemachine_arn}\")\n",
    "print(f\"S3 bucket: {s3_bucket}\")"
   ]
  },
  {
   "cell_type": "markdown",
   "id": "96053d0a-6dfd-4623-aea4-d7eaedc6dc63",
   "metadata": {
    "tags": []
   },
   "source": [
    "# Strands Agent Creation\n",
    "In this section we create the agent using the Strands framework"
   ]
  },
  {
   "cell_type": "markdown",
   "id": "3e974c4f-200d-499a-ba94-70de02a88486",
   "metadata": {},
   "source": [
    "#### Define agent configuration and instructions"
   ]
  },
  {
   "cell_type": "code",
   "execution_count": null,
   "id": "11e88b67-5f84-45be-90af-673c11730230",
   "metadata": {},
   "outputs": [],
   "source": [
    "medical_imaging_agent_name = 'Medical-imaging-expert-strands'\n",
    "medical_imaging_agent_description = \"CT scan analysis using Strands framework\"\n",
    "medical_imaging_agent_instruction = \"\"\"\n",
    "You are a medical research assistant AI specialized in processing medical imaging scans of \n",
    "patients. Your primary task is to create medical imaging jobs, or provide relevant medical insights after the \n",
    "jobs have completed execution. Use only the appropriate tools as required by the specific question. Follow these \n",
    "instructions carefully:\n",
    "\n",
    "1. For computed tomographic (CT) lung imaging biomarker analysis:\n",
    "   a. Identify the patient subject ID(s) based on the conversation.\n",
    "   b. Use the compute_imaging_biomarker tool to trigger the long-running job,\n",
    "      passing the subject ID(s) as an array of strings (for example, [\"R01-043\", \"R01-93\"]).\n",
    "   c. Only if specifically asked for an analysis, use the analyze_imaging_biomarker tool to process the results from the previous job.\n",
    "   d. Use the retrieve_execution_status tool to confirm the execution status of a job\n",
    "   e. Only analyse jobs with status completed\n",
    "\n",
    "2. When providing your response:\n",
    "   a. Start with a brief summary of your understanding of the user's query.\n",
    "   b. Explain the steps you're taking to address the query. Ask for clarifications from the user if required.\n",
    "   c. Present the results of the medical imaging jobs if complete.\n",
    "\"\"\""
   ]
  },
  {
   "cell_type": "markdown",
   "id": "lambda-tools",
   "metadata": {},
   "source": [
    "#### Define tools for Strands agent\n",
    "These tools will invoke different services to perform operations for the agent"
   ]
  },
  {
   "cell_type": "code",
   "execution_count": null,
   "id": "create-tools",
   "metadata": {},
   "outputs": [],
   "source": [
    "@tool\n",
    "def compute_imaging_biomarker(subject_id: List[str]) -> str:\n",
    "    \"\"\"\n",
    "    Compute the imaging biomarker features from lung CT scans within the tumor for a list of patient subject IDs.\n",
    "    \n",
    "    Args:\n",
    "        subject_id (List[str]): An array of strings representing patient subject IDs, example ['R01-222', 'R01-333']\n",
    "    \n",
    "    Returns:\n",
    "        str: Results of the imaging biomarker computation job\n",
    "    \"\"\"\n",
    "    print(f\"\\nComputing imaging biomarkers for subjects: {subject_id}\\n\")\n",
    "    suffix = uuid.uuid1().hex[:6]  # to be used in resource names\n",
    "    processing_job_name = f'dcm-nifti-conversion-{suffix}'\n",
    "\n",
    "    payload = {\n",
    "        \"PreprocessingJobName\": processing_job_name,\n",
    "        \"Subject\": subject_id\n",
    "    }\n",
    "    execution_response = sfn_client.start_execution(\n",
    "        stateMachineArn=sfn_statemachine_arn,\n",
    "        name=suffix,\n",
    "        input=json.dumps(payload)\n",
    "    )\n",
    "    \n",
    "    execution_id = execution_response['executionArn'].split(':')[-1]\n",
    "\n",
    "    print(f\"The function compute_imaging_biomarker was called successfully! Execution {execution_id} with ARN {execution_response['executionArn']} has been started.\")\n",
    "    return f\"Imaging biomarker processing has been submitted. Results can be retrieved from your database once the job {execution_response['executionArn']} completes.\"\n",
    "\n",
    "@tool\n",
    "def retrieve_execution_status(execution_arn: str) -> str:\n",
    "    \"\"\"\n",
    "    Retrieve the status of a compute execution job.\n",
    "    \n",
    "    Args:\n",
    "        execution_arn (str): a string containing the execution arn\n",
    "    \n",
    "    Returns:\n",
    "        str: Results the status of the execution\n",
    "    \"\"\"\n",
    "    print(f\"\\nChecking status for state machine execution: {execution_arn}\\n\")\n",
    "    response = sfn_client.describe_execution(executionArn=execution_arn)\n",
    "    status = response['status']\n",
    "    print(f\"Execution status is {status}\")\n",
    "    return status\n",
    "\n",
    "@tool\n",
    "def analyze_imaging_biomarker(subject_id: List[str]) -> str:\n",
    "    \"\"\"\n",
    "    Analyze the result imaging biomarker features from lung CT scans within the tumor for a list of patient subject IDs.\n",
    "    \n",
    "    Args:\n",
    "        subject_id (List[str]): An array of strings representing patient subject IDs, example ['R01-222', 'R01-333']\n",
    "    \n",
    "    Returns:\n",
    "        str: Analysis results of the imaging biomarker features\n",
    "    \"\"\"\n",
    "    print(f\"\\nAnalyzing imaging biomarkers for subjects: {subject_id}\\n\")\n",
    "    result = []\n",
    "    for id in subject_id:\n",
    "        output_data_uri = f'{s3_bucket}/nsclc_radiogenomics/'\n",
    "        object_key = f'nsclc_radiogenomics/CSV/{id}.csv'\n",
    "        try:\n",
    "            response = s3_client.get_object(Bucket=bucket_name, Key=object_key)\n",
    "            csv_data = response['Body'].read().decode('utf-8')\n",
    "        \n",
    "            df = pd.read_csv(io.StringIO(csv_data))\n",
    "            df['subject_id'] = id\n",
    "            json_data = df.to_json(orient='records')\n",
    "\n",
    "            result = result + json.loads(json_data)\n",
    "        except Exception as e:\n",
    "            print(f'Error: {e}')\n",
    "    \n",
    "    print(f\"\\nAnalysis Output: {result}\\n\")\n",
    "    return result\n",
    "\n",
    "# Create list of tools\n",
    "medical_imaging_tools = [compute_imaging_biomarker, retrieve_execution_status, analyze_imaging_biomarker]\n",
    "print(f\"Created {len(medical_imaging_tools)} tools for the Strands agent\")"
   ]
  },
  {
   "cell_type": "markdown",
   "id": "create-provider",
   "metadata": {},
   "source": [
    "#### Setup AWS Bedrock provider for Strands"
   ]
  },
  {
   "cell_type": "code",
   "execution_count": null,
   "id": "setup-provider",
   "metadata": {},
   "outputs": [],
   "source": [
    "# Create Bedrock model for Strands\n",
    "model = BedrockModel(\n",
    "    model_id=\"anthropic.claude-3-5-sonnet-20241022-v2:0\",\n",
    "    region_name=region,\n",
    "    temperature=0.1,\n",
    "    streaming=False\n",
    ")"
   ]
  },
  {
   "cell_type": "markdown",
   "id": "3d2b94bc-1ed8-4542-9315-1494d76d4445",
   "metadata": {},
   "source": [
    "#### Create the Strands agent"
   ]
  },
  {
   "cell_type": "code",
   "execution_count": null,
   "id": "37eb6515-56ec-4bf5-afc1-99f303add381",
   "metadata": {},
   "outputs": [],
   "source": [
    "# Create the Strands agent\n",
    "try:\n",
    "    medical_imaging_agent = Agent(\n",
    "        model=model,\n",
    "        tools=medical_imaging_tools,\n",
    "        system_prompt=medical_imaging_agent_instruction\n",
    "    )\n",
    "    \n",
    "    print(f\"Successfully created Strands agent: {medical_imaging_agent_name}\")\n",
    "    print(f\"Agent has {len(medical_imaging_tools)} tools available\")\n",
    "    \n",
    "except Exception as e:\n",
    "    print(f\"Error creating agent: {e}\")\n",
    "    raise"
   ]
  },
  {
   "cell_type": "markdown",
   "id": "test-agent",
   "metadata": {},
   "source": [
    "#### Test the Strands agent"
   ]
  },
  {
   "cell_type": "code",
   "execution_count": null,
   "id": "1f1dbd7b-b9c2-427b-b7e5-23961e64d877",
   "metadata": {},
   "outputs": [],
   "source": [
    "# Test the agent with a simple query\n",
    "test_query = \"Can you compute the imaging biomarkers for these 2 patients with patient IDs of R01-083 and R01-040?\"\n",
    "\n",
    "print(f\"Testing agent with query: {test_query}\")\n",
    "print(\"=\" * 126)\n",
    "\n",
    "try:\n",
    "    # Run the agent\n",
    "    medical_imaging_agent(test_query)\n",
    "\n",
    "except Exception as e:\n",
    "    print(f\"Error during agent execution: {e}\")\n",
    "    import traceback\n",
    "    traceback.print_exc()"
   ]
  },
  {
   "cell_type": "markdown",
   "id": "advanced-usage",
   "metadata": {},
   "source": [
    "#### Advanced usage examples"
   ]
  },
  {
   "cell_type": "code",
   "execution_count": null,
   "id": "advanced-examples",
   "metadata": {
    "scrolled": true
   },
   "outputs": [],
   "source": [
    "# Example of more complex queries\n",
    "complex_queries = [\n",
    "    \"Compute imaging biomarkers for patients R01-001, R01-002, and R01-003\",\n",
    "    \"Analyze the imaging biomarker results for patient R01-083\"\n",
    "]\n",
    "\n",
    "def test_complex_query(query: str):\n",
    "    \"\"\"\n",
    "    Test a complex query with the agent\n",
    "    \"\"\"\n",
    "    print(f\"\\nTesting query: {query}\")\n",
    "    print(\"-\" * 120)\n",
    "    \n",
    "    try:\n",
    "        medical_imaging_agent(query)\n",
    "    except Exception as e:\n",
    "        print(f\"Error: {e}\")\n",
    "\n",
    "for query in complex_queries:\n",
    "    test_complex_query(query)"
   ]
  },
  {
   "cell_type": "markdown",
   "id": "session-management",
   "metadata": {},
   "source": [
    "#### Session management and conversation continuity"
   ]
  },
  {
   "cell_type": "code",
   "execution_count": null,
   "id": "session-demo",
   "metadata": {},
   "outputs": [],
   "source": [
    "# Demonstrate conversation continuity\n",
    "def interactive_session():\n",
    "    \"\"\"\n",
    "    Simple interactive session with the agent\n",
    "    \"\"\"\n",
    "    print(\"Interactive Medical Imaging Analysis Session\")\n",
    "    print(\"Type 'quit' to exit\")\n",
    "    print(\"=\" * 100)\n",
    "    \n",
    "    while True:\n",
    "        user_input = input(\"\\n\\nYour question: \")\n",
    "        \n",
    "        if user_input.lower() in ['quit', 'exit', 'q']:\n",
    "            print(\"Session ended.\")\n",
    "            break\n",
    "            \n",
    "        try:\n",
    "            medical_imaging_agent(user_input)\n",
    "        except Exception as e:\n",
    "            print(f\"Error: {e}\")\n",
    "\n",
    "interactive_session()"
   ]
  },
  {
   "cell_type": "markdown",
   "id": "summary",
   "metadata": {},
   "source": [
    "## Summary\n",
    "\n",
    "This notebook demonstrated how to integrate Strands with AWS Step Functions.\n",
    "\n",
    "### Tools Available:\n",
    "- `compute_imaging_biomarker`: Computes imaging biomarker features from lung CT scans\n",
    "- `retrieve_execution_status`: Retrieve compute execution status\n",
    "- `analyze_imaging_biomarker`: Analyzes the imaging biomarker results"
   ]
  },
  {
   "cell_type": "markdown",
   "id": "47936106",
   "metadata": {},
   "source": []
  }
 ],
 "metadata": {
  "kernelspec": {
   "display_name": "Python 3",
   "language": "python",
   "name": "python3"
  },
  "language_info": {
   "codemirror_mode": {
    "name": "ipython",
    "version": 3
   },
   "file_extension": ".py",
   "mimetype": "text/x-python",
   "name": "python",
   "nbconvert_exporter": "python",
   "pygments_lexer": "ipython3",
   "version": "3.13.5"
  }
 },
 "nbformat": 4,
 "nbformat_minor": 5
}
