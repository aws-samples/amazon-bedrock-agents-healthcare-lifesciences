{
 "cells": [
  {
   "cell_type": "markdown",
   "id": "045a7b02-6a49-4b6d-b11f-43ed4ad3f190",
   "metadata": {
    "tags": []
   },
   "source": [
    "# Prepare Notebook Environment for Strands Agents\n",
    "\n",
    "In this section we prepare this notebook environment with the necessary dependencies to create any agents using the Strands framework."
   ]
  },
  {
   "cell_type": "markdown",
   "id": "73696601",
   "metadata": {},
   "source": [
    "## Prerequisites\n",
    "\n",
    "1. If you are running the notebook in your own account and not on as part of an AWS hosted event, follow the **Deploy Infrastructure** instructions from the [Self Paced](https://catalog.us-east-1.prod.workshops.aws/workshops/0bf501fc-357d-43b3-b758-b44f9b0e7d49/en-US/access-and-navigate-aws-account/self-paced-agentcore) workshop to setup the following dependencies in your account:\n",
    "    - Networking infrastructure (VPC, Subnets, etc.)\n",
    "    - Amazon Redshift Database\n",
    "    - AWS Step Function\n",
    "    - Amazon Bedrock Knowledge Base\n",
    "2. Manually sync the Amazon Bedrock Knowledge Base:\n",
    "    - Navigate to the Amazon Bedrock dashboard via AWS Console search\n",
    "    - Select the option icon (top left) to open the navigation bar\n",
    "    - Select \"Knowledge bases\" under the \"Builder tools\" tab\n",
    "    - Choose the Knowledgebase created by the AWS CloudFormation template\n",
    "    - Scroll to the \"Data Source\" option box\n",
    "    - Select the data source (radio button) and Select Sync\n",
    "3. Make sure your notebook execution role has the following managed policies (you can find an example at [sagemaker_execution_role.yaml](sagemaker_execution_role.yaml)):\n",
    "    - AmazonBedrockFullAccess\n",
    "    - AmazonRedshiftQueryEditor\n",
    "    - AmazonS3FullAccess\n",
    "    - AmazonSageMakerFullAccess\n",
    "    - AWSLambda_FullAccess\n",
    "    - AWSStepFunctionsFullAccess\n",
    "    - IAMFullAccess\n",
    "    - AWSCodeBuildAdminAccess"
   ]
  },
  {
   "cell_type": "markdown",
   "id": "be755083-73cf-48b0-8d2f-06769d176503",
   "metadata": {},
   "source": [
    "## Environment Setup\n",
    "\n",
    "#### Run the pip commands below to install all needed packages"
   ]
  },
  {
   "cell_type": "code",
   "execution_count": null,
   "id": "2e6a7e62",
   "metadata": {},
   "outputs": [],
   "source": [
    "%pip install boto3 awscli botocore termcolor sagemaker --quiet"
   ]
  },
  {
   "cell_type": "markdown",
   "id": "7c36cede",
   "metadata": {},
   "source": [
    "Ensure the boto3 version printed below is **1.37.1** or higher."
   ]
  },
  {
   "cell_type": "code",
   "execution_count": null,
   "id": "22cff0fe-0fc5-455c-a8b7-88f7711afba7",
   "metadata": {
    "tags": []
   },
   "outputs": [],
   "source": [
    "%pip show boto3"
   ]
  },
  {
   "cell_type": "markdown",
   "id": "3d89cd8b-73ff-4cef-b040-31cc4e4b0233",
   "metadata": {},
   "source": [
    "#### Import Python libraries"
   ]
  },
  {
   "cell_type": "code",
   "execution_count": null,
   "id": "f56fe856-e1d4-42f1-aaf0-424f04ff4ba9",
   "metadata": {
    "tags": []
   },
   "outputs": [],
   "source": [
    "# Standard Python libraries\n",
    "import boto3\n",
    "import sagemaker"
   ]
  },
  {
   "cell_type": "markdown",
   "id": "17e2d364-aab0-45fc-bf0f-2ad4bd8d9918",
   "metadata": {},
   "source": [
    "#### Extract account information needed for agent creation notebook role"
   ]
  },
  {
   "cell_type": "code",
   "execution_count": null,
   "id": "657e0b1a-d4ff-4cfc-bb50-b64f888ca773",
   "metadata": {
    "tags": []
   },
   "outputs": [],
   "source": [
    "# boto3 session\n",
    "sts_client = boto3.client('sts')\n",
    "session = boto3.session.Session()\n",
    "\n",
    "# Account info\n",
    "account_id = sts_client.get_caller_identity()[\"Account\"]\n",
    "region = session.region_name\n",
    "print(f\"Account ID: {account_id}\")\n",
    "print(f\"Region: {region}\")\n",
    "\n",
    "# Get the SageMaker session and execution role\n",
    "sagemaker_session = sagemaker.Session()\n",
    "role = sagemaker_session.get_caller_identity_arn()\n",
    "print(f\"Notebook Execution Role: {role}\")"
   ]
  },
  {
   "cell_type": "markdown",
   "id": "b83ad7d8",
   "metadata": {},
   "source": [
    "## Configure Bedrock AgentCore Observability on Amazon CloudWatch\n",
    "AgentCore Observability helps you trace, debug, and monitor agent performance in production environments. It offers detailed visualizations of each step in the agent workflow, enabling you to inspect an agent's execution path, audit intermediate outputs, and debug performance bottlenecks and failures.\n",
    "\n",
    "AgentCore Observability gives you real-time visibility into agent operational performance through access to dashboards powered by Amazon CloudWatch and telemetry for key metrics such as session count, latency, duration, token usage, and error rates. Rich metadata tagging and filtering simplify issue investigation and quality maintenance at scale. AgentCore emits telemetry data in standardized OpenTelemetry (OTEL)-compatible format, enabling you to easily integrate it with your existing monitoring and observability stack.\n",
    "\n",
    "All of the metrics, spans, and logs output by AgentCore are stored in Amazon CloudWatch, and can be viewed in the CloudWatch console or downloaded from CloudWatch using the AWS CLI or one of the AWS SDKs.\n",
    "\n",
    "Follow the below steps to enable observability for agents hosted on AgentCore Runtime:\n",
    "1. Go to **Amazon CloudWatch** on the AWS Console\n",
    "2. Select **GenAI Observability** under **Application Signals(APM)** on the left side of the navigation pane.\n",
    "3. Select the **Bedrock AgentCore** tab\n",
    "4. AgentCore observability require you to enable Transaction Search. To do that, select **Configure** to open a new browser tab with X-Ray traces configuration.\n",
    "\n",
    "![Configure Transaction Search](../images/observability_setup_1.png)\n",
    "\n",
    "5. To enable Transaction Search, Select **Edit**, mark the checkbox and select Save. It might take up to 5 minutes for the configuration to go from *Updating* to *Enabled*.\n",
    "\n",
    "![Configure Transaction Search](../images/observability_setup_2.png)\n",
    "\n",
    "6. Close the X-Ray tab and go back to **GenAI Observability** view on **Amazon CloudWatch**. You might need to refresh the page if you are still seeing the *Configure* button. You can now explore the different metrics for your agents."
   ]
  }
 ],
 "metadata": {
  "kernelspec": {
   "display_name": "strands",
   "language": "python",
   "name": "python3"
  },
  "language_info": {
   "codemirror_mode": {
    "name": "ipython",
    "version": 3
   },
   "file_extension": ".py",
   "mimetype": "text/x-python",
   "name": "python",
   "nbconvert_exporter": "python",
   "pygments_lexer": "ipython3",
   "version": "3.12.2"
  }
 },
 "nbformat": 4,
 "nbformat_minor": 5
}
