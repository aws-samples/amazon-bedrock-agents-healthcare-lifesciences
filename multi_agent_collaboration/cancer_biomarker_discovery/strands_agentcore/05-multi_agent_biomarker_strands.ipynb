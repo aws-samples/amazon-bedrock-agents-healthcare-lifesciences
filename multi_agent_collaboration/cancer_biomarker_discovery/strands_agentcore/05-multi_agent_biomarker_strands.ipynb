{
 "cells": [
  {
   "cell_type": "markdown",
   "id": "f2a7ad93-3ae1-4624-aa50-f13d49b176f5",
   "metadata": {},
   "source": [
    "# Create Biomarker Supervisor Agent\n",
    "In this notebook we create the Biomarker Supervisor Agent that will interact with all of the Biomarker sub-agents using the Strands agents. The agents will be deployed using Bedrock AgentCore."
   ]
  },
  {
   "cell_type": "markdown",
   "id": "85c40b52",
   "metadata": {},
   "source": [
    "#### Upgrade boto3 to the latest version with support for Bedrock AgentCore"
   ]
  },
  {
   "cell_type": "code",
   "execution_count": null,
   "id": "6640960e-5177-4ce4-8dda-b8a63ed9c093",
   "metadata": {
    "scrolled": true
   },
   "outputs": [],
   "source": [
    "%pip install --upgrade boto3"
   ]
  },
  {
   "cell_type": "markdown",
   "id": "ea1c98d3",
   "metadata": {},
   "source": [
    "#### Ensure the latest version of boto3 is shown below\n",
    "Ensure the boto3 version printed below is **1.39** or higher."
   ]
  },
  {
   "cell_type": "code",
   "execution_count": null,
   "id": "2a72653b",
   "metadata": {
    "execution": {
     "iopub.execute_input": "2025-07-29T07:07:16.845485Z",
     "iopub.status.busy": "2025-07-29T07:07:16.845156Z",
     "iopub.status.idle": "2025-07-29T07:07:18.188357Z",
     "shell.execute_reply": "2025-07-29T07:07:18.187567Z",
     "shell.execute_reply.started": "2025-07-29T07:07:16.845460Z"
    }
   },
   "outputs": [],
   "source": [
    "%pip show boto3"
   ]
  },
  {
   "cell_type": "markdown",
   "id": "a4b74ff5",
   "metadata": {},
   "source": [
    "#### Install Strands agents and AgentCore dependencies"
   ]
  },
  {
   "cell_type": "code",
   "execution_count": null,
   "id": "a28f895a",
   "metadata": {},
   "outputs": [],
   "source": [
    "%pip install strands-agents strands-agents-tools bedrock-agentcore bedrock-agentcore-starter-toolkit xmltodict --quiet"
   ]
  },
  {
   "cell_type": "markdown",
   "id": "3966e2f2-ff08-423b-9668-c43d04575a16",
   "metadata": {},
   "source": [
    "## Prerequisites\n",
    "\n",
    "Run through the notebook environment setup in [00-setup_environment.ipynb](00-setup_environment.ipynb). You will also need to create an IAM role named **`agentcore-agentcore_strands-role`** for AgentCore runtime with the following policies:\n",
    "- managed policy `AmazonEC2ContainerRegistryFullAccess`\n",
    "- managed policy `AmazonRedshiftQueryEditor`\n",
    "- `bedrock-agentcore:*`\n",
    "- `bedrock:InvokeModel`\n",
    "- `bedrock:InvokeModelWithResponseStream`\n",
    "- `bedrock:ListKnowledgeBases`\n",
    "- `lambda:InvokeFunction`\n",
    "- `s3:GetObject`"
   ]
  },
  {
   "cell_type": "markdown",
   "id": "f0880d66-a243-4ea9-bef1-5ef4bb3ef4da",
   "metadata": {},
   "source": [
    "#### Import required libraries"
   ]
  },
  {
   "cell_type": "code",
   "execution_count": null,
   "id": "23bf8b51",
   "metadata": {
    "execution": {
     "iopub.execute_input": "2025-07-29T07:07:22.717666Z",
     "iopub.status.busy": "2025-07-29T07:07:22.717330Z",
     "iopub.status.idle": "2025-07-29T07:07:22.722402Z",
     "shell.execute_reply": "2025-07-29T07:07:22.721823Z",
     "shell.execute_reply.started": "2025-07-29T07:07:22.717639Z"
    }
   },
   "outputs": [],
   "source": [
    "from utils.magic_helper import register_cell_magic"
   ]
  },
  {
   "cell_type": "markdown",
   "id": "898e4125-637c-430d-9176-706429b5f35e",
   "metadata": {},
   "source": [
    "## Agent Creation\n",
    "In this section we create the supervisor agent"
   ]
  },
  {
   "cell_type": "markdown",
   "id": "590a3217-ed93-4686-8d66-028de6cecdd6",
   "metadata": {},
   "source": [
    "### Agents as Tools with Strands Agents\n",
    "\n",
    "\"Agents as Tools\" is an architectural pattern in AI systems where specialized AI agents are wrapped as callable functions (tools) that can be used by other agents. This creates a hierarchical structure where:\n",
    "\n",
    "1. A primary \"orchestrator\" agent handles user interaction and determines which specialized agent to call\n",
    "2. Specialized \"tool agents\" perform domain-specific tasks when called by the orchestrator\n",
    "\n",
    "This approach mimics human team dynamics, where a manager coordinates specialists, each bringing unique expertise to solve complex problems. Rather than a single agent trying to handle everything, tasks are delegated to the most appropriate specialized agent."
   ]
  },
  {
   "cell_type": "code",
   "execution_count": null,
   "id": "5a83e0b1-5e77-4486-9c28-561fcdfe897b",
   "metadata": {
    "execution": {
     "iopub.execute_input": "2025-07-29T07:07:27.781536Z",
     "iopub.status.busy": "2025-07-29T07:07:27.781133Z",
     "iopub.status.idle": "2025-07-29T07:07:27.787219Z",
     "shell.execute_reply": "2025-07-29T07:07:27.786472Z",
     "shell.execute_reply.started": "2025-07-29T07:07:27.781511Z"
    }
   },
   "outputs": [],
   "source": [
    "%%write_and_run multi_agent_biomarker.py\n",
    "\n",
    "import boto3\n",
    "import json\n",
    "import uuid\n",
    "import requests\n",
    "from typing import Dict, Any\n",
    "from strands import Agent, tool\n",
    "from strands.models import BedrockModel\n",
    "\n",
    "from biomarker_agent import *\n",
    "from clinical_research_agent import *\n",
    "from medical_imaging_agent import *\n",
    "from statistician_agent import *\n",
    "\n",
    "# 1: biomarker_database_analyst_agent tool\n",
    "\n",
    "@tool\n",
    "def biomarker_database_analyst_agent(query: str) -> str:\n",
    "    \"\"\"\n",
    "    Create biomarker query engine with redshift using Strands framework\n",
    "\n",
    "    Args:\n",
    "        query: An information request from the biomarker database\n",
    "\n",
    "    Returns:\n",
    "        A summary of the understanding of the user's query and the response.\n",
    "    \"\"\"\n",
    "    try:\n",
    "        biomarker_agent = Agent(\n",
    "            model=bedrock_model,\n",
    "            tools=[get_schema, query_redshift, refine_sql],\n",
    "            system_prompt=biomarker_agent_instruction\n",
    "        )\n",
    "        biomarker_agent_response = biomarker_agent(query)\n",
    "        print(\"Biomarker agent Response:\")\n",
    "        print(biomarker_agent_response)\n",
    "        return biomarker_agent_response\n",
    "    except Exception as e:\n",
    "        print(f\"Error creating agent: {e}\")\n",
    "        raise\n",
    "\n",
    "# 2: clinical_evidence_research_agent tool\n",
    "\n",
    "@tool\n",
    "def clinical_evidence_research_agent(query: str) -> str:\n",
    "    \"\"\"\n",
    "    Research internal and external evidence using Strands framework\n",
    "\n",
    "    Args:\n",
    "        query: An information request from the clinical evidence\n",
    "\n",
    "    Returns:\n",
    "        Clinical evidence.\n",
    "    \"\"\"\n",
    "    try:\n",
    "        clinical_research_agent = Agent(\n",
    "            model=bedrock_model,\n",
    "            tools=[query_pubmed, retrieve],\n",
    "            system_prompt=clinical_research_agent_instruction\n",
    "        )\n",
    "        clinical_research_agent_response = clinical_research_agent(query)\n",
    "        print(\"Clinical research agent Response:\")\n",
    "        print(clinical_research_agent_response)\n",
    "        return clinical_research_agent_response\n",
    "    except Exception as e:\n",
    "        print(f\"Error creating agent: {e}\")\n",
    "        raise\n",
    "\n",
    "# 3: clinical_evidence_research_agent tool\n",
    "\n",
    "@tool\n",
    "def medical_imaging_agent(query: str) -> str:\n",
    "    \"\"\"\n",
    "    Medical research assistant AI specialized in processing medical imaging scans of patients\n",
    "\n",
    "    Args:\n",
    "        query: Patient information to be used to compute imaging biomarkers\n",
    "\n",
    "    Returns:\n",
    "        The results of the medical imaging jobs.\n",
    "    \"\"\"\n",
    "    try:\n",
    "        medical_imaging_agent = Agent(\n",
    "            model=bedrock_model,\n",
    "            tools=[compute_imaging_biomarker, analyze_imaging_biomarker],\n",
    "            system_prompt=medical_imaging_agent_instruction\n",
    "        )\n",
    "        medical_imaging_agent_response = medical_imaging_agent(query)\n",
    "        print(\"Medical imaging agent Response:\")\n",
    "        print(medical_imaging_agent_response)\n",
    "        return medical_imaging_agent_response\n",
    "    except Exception as e:\n",
    "        print(f\"Error creating agent: {e}\")\n",
    "        raise\n",
    "\n",
    "# 4: statistician_agent tool\n",
    "\n",
    "@tool\n",
    "def statistician_agent(query: str) -> str:\n",
    "    \"\"\"\n",
    "    Medical research assistant AI specialized in survival analysis with biomarkers\n",
    "\n",
    "    Args:\n",
    "        query: Information to be used to generate the chart\n",
    "\n",
    "    Returns:\n",
    "        A summary of your understanding of the user's query.\n",
    "    \"\"\"\n",
    "    try:\n",
    "        statistician_agent = Agent(\n",
    "            model=bedrock_model,\n",
    "            tools=[create_bar_chart, plot_kaplan_meier, fit_survival_regression],\n",
    "            system_prompt=statistician_agent_instruction\n",
    "        )\n",
    "        statistician_agent_response = statistician_agent(query)\n",
    "        print(\"Statistician agent Response:\")\n",
    "        print(statistician_agent_response)\n",
    "        return statistician_agent_response\n",
    "    except Exception as e:\n",
    "        print(f\"Error creating agent: {e}\")\n",
    "        raise\n",
    "\n",
    "# Define orchestrator agent configuration below\n",
    "\n",
    "agent_name = \"multi-agent-biomarker\"\n",
    "agent_description = \"Multi-agent collaboration for biomarker discovery\"\n",
    "agent_instruction = \"\"\"You are a medical research assistant AI specialized in cancer biomarker analysis and discovery. \n",
    "Your primary task is to interpret user queries, use relevant agents for specific tasks, and provide consolidated medical insights based on the data. \n",
    "Use only the appropriate agents as required by the specific question. You can provide responses from a prior agent to the next agent \n",
    "in sequence. To analyze patient biomarkers data, you can retrieve relevant records from the database. \n",
    "To find the p-value of biomarkers, \n",
    "a. You need to query and store all records including survival status, survival duration in years, and the required biomarkers and \n",
    "b. You need to fit a surival regression model with that data in S3. \n",
    "When providing your response:\n",
    "a. Start with a brief summary of your understanding of the user's query. \n",
    "b. Explain the steps you're taking to address the query. Ask for clarifications from the user if required. \n",
    "c. Present the results of individual agents \n",
    "d. Conclude with a concise summary of the findings and their potential implications for medical research. \n",
    "\n",
    "Make sure to explain any medical or statistical concepts in a clear, accessible manner.\n",
    "\n",
    "\"\"\"\n",
    "\n",
    "# Define the model\n",
    "bedrock_model = BedrockModel(\n",
    "    model_id=\"anthropic.claude-3-5-sonnet-20241022-v2:0\",\n",
    "    region_name=region,\n",
    "    temperature=0.1,\n",
    "    streaming=False\n",
    ")\n",
    "\n",
    "# Instantiate the orchestrator agent\n",
    "try:\n",
    "    orchestrator = Agent(\n",
    "        model=bedrock_model,\n",
    "        system_prompt=agent_instruction,\n",
    "        callback_handler=None,\n",
    "        # associate sub-agents to supervisor\n",
    "        tools=[biomarker_database_analyst_agent, clinical_evidence_research_agent, medical_imaging_agent, statistician_agent]\n",
    "    )\n",
    "    print(f\"Successfully created orchestrator agent: {agent_name}\")\n",
    "except Exception as e:\n",
    "    print(f\"Error creating agent: {e}\")\n",
    "    raise"
   ]
  },
  {
   "cell_type": "markdown",
   "id": "4a32f9b7-3af8-4082-91cd-3383e81b386a",
   "metadata": {
    "execution": {
     "iopub.execute_input": "2025-07-03T22:46:38.405073Z",
     "iopub.status.busy": "2025-07-03T22:46:38.404734Z",
     "iopub.status.idle": "2025-07-03T22:46:38.408119Z",
     "shell.execute_reply": "2025-07-03T22:46:38.407523Z",
     "shell.execute_reply.started": "2025-07-03T22:46:38.405050Z"
    }
   },
   "source": [
    "### Ask supervisor agent different questions now that sub-agents are ready"
   ]
  },
  {
   "cell_type": "code",
   "execution_count": null,
   "id": "977aa5f3-26f0-46df-b75d-a08f4f677f36",
   "metadata": {},
   "outputs": [],
   "source": [
    "# ---------------------------- Sample Question Bank --------------------------------------------\n",
    "\n",
    "# Redshift Agent Questions\n",
    "redshift_agent_query_1 = \"How many patients are current smokers?\"\n",
    "redshift_agent_query_2 = \"What is the average age of patients diagnosed with Adenocarcinoma?\"\n",
    "\n",
    "# Research Evidence Agent Questions\n",
    "research_evidence_agent_query_1 = \"Can you search PubMed for evidence around the effects of biomarker use in oncology on clinical trial failure risk?\"\n",
    "research_evidence_agent_query_2 = \"What are the FDA approved biomarkers for non small cell lung cancer?\"\n",
    "\n",
    "# Medical Imaging Agent Questions (must run in sequence)\n",
    "medical_imaging_agent_query_1 = \"Can you compute the imaging biomarkers for the 2 patients with the lowest gdf15 expression values?\"\n",
    "medical_imaging_agent_query_2 = \"Can you higlight the elongation and sphericity of the tumor with these patients. Can you depict images of them?\"\n",
    "\n",
    "# Scientific Analysis Agent Questions\n",
    "scientific_analysis_agent_query_1 = \"What is the best gene biomarker (lowest p value) with overall survival for patients that have undergone chemotherapy, Generate a bar chart of the top 5 gene biomarkers based on their p value and include their names in the x axis.?\"\n",
    "\n",
    "# Followup research evidence agent questions\n",
    "research_evidence_agent_query_3 = \"According to literature evidence, what metagene cluster does gdf15 belong to\"\n",
    "research_evidence_agent_query_4 = \"What properties of the tumor are associated with metagene 19 activity and EGFR pathway\"\n",
    "\n",
    "# -----------------------------------------------------------------------------------------\n",
    "test_query = redshift_agent_query_1 # Change value here to test different questions\n",
    "\n",
    "print(f\"Testing orchestrator agent with query: {test_query}\")\n",
    "print(\"=\" * (39 + len(test_query)))\n",
    "\n",
    "try:\n",
    "    # Run the agent\n",
    "    response = orchestrator(test_query)\n",
    "    \n",
    "except Exception as e:\n",
    "    print(f\"Error during agent execution: {e}\")\n",
    "    import traceback\n",
    "    traceback.print_exc()"
   ]
  },
  {
   "cell_type": "markdown",
   "id": "ffad2dee",
   "metadata": {},
   "source": [
    "## Agent Deployment\n",
    "In this section we deploy the supervisor agent using Bedrock AgentCore."
   ]
  },
  {
   "cell_type": "markdown",
   "id": "1ed1b2db",
   "metadata": {},
   "source": [
    "### Preparing your agent for deployment on AgentCore Runtime"
   ]
  },
  {
   "cell_type": "code",
   "execution_count": null,
   "id": "f6e37ddf",
   "metadata": {
    "execution": {
     "iopub.execute_input": "2025-07-29T07:07:38.449589Z",
     "iopub.status.busy": "2025-07-29T07:07:38.449279Z",
     "iopub.status.idle": "2025-07-29T07:07:38.502783Z",
     "shell.execute_reply": "2025-07-29T07:07:38.502222Z",
     "shell.execute_reply.started": "2025-07-29T07:07:38.449567Z"
    }
   },
   "outputs": [],
   "source": [
    "%%writefile -a multi_agent_biomarker.py\n",
    "\n",
    "from strands import Agent, tool\n",
    "import argparse\n",
    "import json\n",
    "from bedrock_agentcore.runtime import BedrockAgentCoreApp\n",
    "from strands.models import BedrockModel\n",
    "\n",
    "app = BedrockAgentCoreApp()\n",
    "\n",
    "@app.entrypoint\n",
    "async def strands_agent_bedrock_streaming(payload):\n",
    "    \"\"\"\n",
    "    Invoke the agent with streaming capabilities\n",
    "    This function demonstrates how to implement streaming responses\n",
    "    with AgentCore Runtime using async generators\n",
    "    \"\"\"\n",
    "    user_input = payload.get(\"prompt\")\n",
    "    print(\"User input:\", user_input)\n",
    "    \n",
    "    try:\n",
    "        # Stream each chunk as it becomes available\n",
    "        async for event in orchestrator.stream_async(user_input):\n",
    "            if \"data\" in event:\n",
    "                yield event[\"data\"]\n",
    "    except Exception as e:\n",
    "        # Handle errors gracefully in streaming context\n",
    "        error_response = {\"error\": str(e), \"type\": \"stream_error\"}\n",
    "        print(f\"Streaming error: {error_response}\")\n",
    "        yield error_response\n",
    "\n",
    "if __name__ == \"__main__\":\n",
    "    app.run()\n"
   ]
  },
  {
   "cell_type": "markdown",
   "id": "b3861be4",
   "metadata": {},
   "source": [
    "### Deploying the agent to AgentCore Runtime"
   ]
  },
  {
   "cell_type": "markdown",
   "id": "e36f381f",
   "metadata": {},
   "source": [
    "#### Define agent name and retrieve runtime role"
   ]
  },
  {
   "cell_type": "code",
   "execution_count": null,
   "id": "00333613",
   "metadata": {
    "execution": {
     "iopub.execute_input": "2025-07-29T07:07:41.545420Z",
     "iopub.status.busy": "2025-07-29T07:07:41.545104Z",
     "iopub.status.idle": "2025-07-29T07:07:41.553294Z",
     "shell.execute_reply": "2025-07-29T07:07:41.552765Z",
     "shell.execute_reply.started": "2025-07-29T07:07:41.545398Z"
    }
   },
   "outputs": [],
   "source": [
    "from utils.boto3_helper import get_role_arn\n",
    "iam = boto3.client('iam')\n",
    "\n",
    "agent_name=\"agentcore_strands\"\n",
    "agentcore_iam_role = get_role_arn('BedrockAgentCoreStrands')\n",
    "agentcore_iam_role"
   ]
  },
  {
   "cell_type": "markdown",
   "id": "1e8aeb36",
   "metadata": {},
   "source": [
    "#### Configure AgentCore Runtime deployment\n",
    "During the configure step, your docker file will be generated based on your application code."
   ]
  },
  {
   "cell_type": "code",
   "execution_count": null,
   "id": "4c0d82ec",
   "metadata": {
    "execution": {
     "iopub.execute_input": "2025-07-29T07:25:26.245390Z",
     "iopub.status.busy": "2025-07-29T07:25:26.245083Z",
     "iopub.status.idle": "2025-07-29T07:25:26.364376Z",
     "shell.execute_reply": "2025-07-29T07:25:26.363470Z",
     "shell.execute_reply.started": "2025-07-29T07:25:26.245370Z"
    }
   },
   "outputs": [],
   "source": [
    "from bedrock_agentcore_starter_toolkit import Runtime\n",
    "from boto3.session import Session\n",
    "boto_session = Session()\n",
    "region = boto_session.region_name\n",
    "\n",
    "agentcore_runtime = Runtime()\n",
    "\n",
    "response = agentcore_runtime.configure(\n",
    "    entrypoint=\"multi_agent_biomarker.py\",\n",
    "    execution_role=agentcore_iam_role,\n",
    "    auto_create_ecr=True,\n",
    "    requirements_file=\"runtime_requirements.txt\",\n",
    "    region=region,\n",
    "    agent_name=agent_name\n",
    ")\n",
    "response"
   ]
  },
  {
   "cell_type": "markdown",
   "id": "07ecf59a",
   "metadata": {},
   "source": [
    "#### Launching agent to AgentCore Runtime\n",
    "Now that we've got a docker file, let's launch the agent to the AgentCore Runtime. This will create the Amazon ECR repository and the AgentCore Runtime."
   ]
  },
  {
   "cell_type": "code",
   "execution_count": null,
   "id": "b68a6666",
   "metadata": {},
   "outputs": [],
   "source": [
    "launch_result = agentcore_runtime.launch(\n",
    "    #use_codebuild=True,\n",
    "    auto_update_on_conflict=True\n",
    ")\n",
    "launch_result"
   ]
  },
  {
   "cell_type": "markdown",
   "id": "c606137e",
   "metadata": {},
   "source": [
    "### Now the Biomarker Supervisor Agent is ready to assist you!"
   ]
  },
  {
   "cell_type": "markdown",
   "id": "af293f76",
   "metadata": {},
   "source": [
    "#### Invoking AgentCore Runtime\n",
    "Finally, we can invoke our AgentCore Runtime with a payload."
   ]
  },
  {
   "cell_type": "code",
   "execution_count": null,
   "id": "c976c5fd",
   "metadata": {},
   "outputs": [],
   "source": [
    "invoke_response = agentcore_runtime.invoke({\"prompt\": redshift_agent_query_1})\n",
    "#print(invoke_response['response'].replace('\"', '').replace('\\\\n', '\\n'))"
   ]
  },
  {
   "cell_type": "markdown",
   "id": "7a0f42fe",
   "metadata": {},
   "source": [
    "### Invoking AgentCore Runtime with boto3\n",
    "Now that your AgentCore Runtime was created you can invoke it with any AWS SDK. For instance, you can use the boto3 `invoke_agent_runtime` method for it."
   ]
  },
  {
   "cell_type": "code",
   "execution_count": null,
   "id": "9eb8205e",
   "metadata": {},
   "outputs": [],
   "source": [
    "from IPython.display import Markdown, display\n",
    "\n",
    "agent_arn = launch_result.agent_arn\n",
    "agentcore_client = boto3.client(\n",
    "    'bedrock-agentcore',\n",
    "    region_name=region\n",
    ")\n",
    "\n",
    "boto3_response = agentcore_client.invoke_agent_runtime(\n",
    "    agentRuntimeArn=agent_arn,\n",
    "    qualifier=\"DEFAULT\",\n",
    "    payload=json.dumps({\"prompt\": redshift_agent_query_1})\n",
    ")\n",
    "\n",
    "if \"text/event-stream\" in boto3_response.get(\"contentType\", \"\"):\n",
    "    print(\"Processing streaming response with boto3:\")\n",
    "    for line in boto3_response[\"response\"].iter_lines(chunk_size=1):\n",
    "        if line:\n",
    "            line = line.decode(\"utf-8\")\n",
    "            line = line.encode().decode('unicode_escape')\n",
    "            if line.startswith(\"data: \"):\n",
    "                data = line[6:].replace('\"', '')\n",
    "                print(data)\n",
    "else:\n",
    "    # Handle non-streaming response\n",
    "    try:\n",
    "        events = []\n",
    "        for event in boto3_response.get(\"response\", []):\n",
    "            events.append(event)\n",
    "    except Exception as e:\n",
    "        events = [f\"Error reading EventStream: {e}\"]\n",
    "    if events:\n",
    "        try:\n",
    "            response_data = json.loads(events[0].decode(\"utf-8\"))\n",
    "            display(Markdown(response_data))\n",
    "        except:\n",
    "            print(f\"Raw response: {events[0]}\")"
   ]
  },
  {
   "cell_type": "markdown",
   "id": "f3bce5fd",
   "metadata": {},
   "source": [
    "## Cleanup (Optional)\n",
    "Let's now clean up the AgentCore Runtime created."
   ]
  },
  {
   "cell_type": "code",
   "execution_count": null,
   "id": "dc0a299e",
   "metadata": {},
   "outputs": [],
   "source": [
    "launch_result.ecr_uri, launch_result.agent_id, launch_result.ecr_uri.split('/')[1]"
   ]
  },
  {
   "cell_type": "code",
   "execution_count": null,
   "id": "573a45eb",
   "metadata": {},
   "outputs": [],
   "source": [
    "agentcore_control_client = boto3.client(\n",
    "    'bedrock-agentcore-control',\n",
    "    region_name=region\n",
    ")\n",
    "ecr_client = boto3.client(\n",
    "    'ecr',\n",
    "    region_name=region\n",
    ")\n",
    "\n",
    "runtime_delete_response = agentcore_control_client.delete_agent_runtime(\n",
    "    agentRuntimeId=launch_result.agent_id,\n",
    ")\n",
    "\n",
    "response = ecr_client.delete_repository(\n",
    "    repositoryName=launch_result.ecr_uri.split('/')[1],\n",
    "    force=True\n",
    ")"
   ]
  }
 ],
 "metadata": {
  "kernelspec": {
   "display_name": "strands-agentcore",
   "language": "python",
   "name": "python3"
  },
  "language_info": {
   "codemirror_mode": {
    "name": "ipython",
    "version": 3
   },
   "file_extension": ".py",
   "mimetype": "text/x-python",
   "name": "python",
   "nbconvert_exporter": "python",
   "pygments_lexer": "ipython3",
   "version": "3.12.2"
  }
 },
 "nbformat": 4,
 "nbformat_minor": 5
}
