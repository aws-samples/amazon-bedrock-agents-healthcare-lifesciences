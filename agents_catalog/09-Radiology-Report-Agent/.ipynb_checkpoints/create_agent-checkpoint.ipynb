{
 "cells": [
  {
   "cell_type": "code",
   "execution_count": 1,
   "id": "0cd70257-aeae-4ec0-a9f0-c95b723b7db5",
   "metadata": {},
   "outputs": [],
   "source": [
    "!python3 -m pip install --upgrade -q botocore\n",
    "!python3 -m pip install --upgrade -q boto3\n",
    "!python3 -m pip install --upgrade -q awscli"
   ]
  },
  {
   "cell_type": "code",
   "execution_count": 2,
   "id": "29319678-6f08-4492-8cde-3b45aef52dec",
   "metadata": {},
   "outputs": [],
   "source": [
    "import os\n",
    "os.environ['AWS_PROFILE'] = 'default'"
   ]
  },
  {
   "cell_type": "code",
   "execution_count": 3,
   "id": "b7234666-410e-4860-9ddd-8a7e391711d6",
   "metadata": {},
   "outputs": [
    {
     "name": "stdout",
     "output_type": "stream",
     "text": [
      "1.37.28\n"
     ]
    }
   ],
   "source": [
    "import boto3\n",
    "import json\n",
    "import time\n",
    "import zipfile\n",
    "from io import BytesIO\n",
    "import uuid\n",
    "import pprint\n",
    "import logging\n",
    "print(boto3.__version__)"
   ]
  },
  {
   "cell_type": "code",
   "execution_count": 4,
   "id": "7479b6b2-2756-4765-ad12-4abb1f72df6d",
   "metadata": {},
   "outputs": [],
   "source": [
    "# getting boto3 clients for required AWS services\n",
    "sts_client = boto3.client('sts')\n",
    "iam_client = boto3.client('iam')\n",
    "lambda_client = boto3.client('lambda')\n",
    "bedrock_agent_client = boto3.client('bedrock-agent')\n",
    "bedrock_agent_runtime_client = boto3.client('bedrock-agent-runtime')"
   ]
  },
  {
   "cell_type": "code",
   "execution_count": 5,
   "id": "abc349be-a400-48db-a576-ccbfbda8699b",
   "metadata": {},
   "outputs": [
    {
     "data": {
      "text/plain": [
       "('us-west-2', '575108919340')"
      ]
     },
     "execution_count": 5,
     "metadata": {},
     "output_type": "execute_result"
    }
   ],
   "source": [
    "session = boto3.session.Session()\n",
    "region = session.region_name\n",
    "account_id = sts_client.get_caller_identity()[\"Account\"]\n",
    "region, account_id"
   ]
  },
  {
   "cell_type": "code",
   "execution_count": 89,
   "id": "e322e8bd-f73f-4570-89b0-1ce1dd946191",
   "metadata": {},
   "outputs": [],
   "source": [
    "# configuration variables\n",
    "suffix = f\"{region}-{account_id}\"\n",
    "stack_name = \"RadiologyReportValidator\"\n",
    "agent_name = f\"{stack_name}-Agent\"\n",
    "agent_bedrock_allow_policy_name = f\"{agent_name}-ba-{suffix}-{stack_name}\"\n",
    "agent_role_name = f'AmazonBRkExRoleForAgents_{agent_name}'\n",
    "agent_foundation_model = \"anthropic.claude-3-sonnet-20240229-v1:0\"\n",
    "agent_description = \"Agent for Validating Radiology Reports\"\n",
    "agent_instruction = \"You are a Radiology Report Validator, helping junior radiologist \\\n",
    "                    write reports in adherence to the ACR guidance criterion. Does the radiology report adheres to the ACR guidelines mentioned in the document? \\\n",
    "                    Is it detailed enough to provide a diagnosis? \\\n",
    "                    Is the report missing any key anatomical structures? \\\n",
    "                    Does the report meet the \\\n",
    "                    quality standards of the ACR guidelines? Please provide a terse actionable feedback and do not try to summarize the report itself. ?\"\n",
    "agent_action_group_name = \"RadiologyActionGroup\"\n",
    "agent_action_group_description = \"Actions for Validating Radiology Reports or from Machine Learning Models\"\n",
    "agent_alias_name = f\"{agent_name}-alias\"\n"
   ]
  },
  {
   "cell_type": "code",
   "execution_count": 90,
   "id": "0168e5bb-46be-4a79-b9f8-866dc8ded828",
   "metadata": {},
   "outputs": [
    {
     "name": "stdout",
     "output_type": "stream",
     "text": [
      "RadiologyReportValidator-575108919340-Lambda\n"
     ]
    },
    {
     "data": {
      "text/plain": [
       "'arn:aws:lambda:us-west-2:575108919340:function:RadiologyReportValidator-575108919340-Lambda'"
      ]
     },
     "execution_count": 90,
     "metadata": {},
     "output_type": "execute_result"
    }
   ],
   "source": [
    "lambda_function_role = f\"{stack_name}-LambdaExecutionRole\"\n",
    "lambda_function_name = f\"{stack_name}-{account_id}-Lambda\"\n",
    "print(lambda_function_name)\n",
    "lambda_function_arn = lambda_client.get_function(FunctionName=lambda_function_name)['Configuration']['FunctionArn']\n",
    "# lambda_funtion_arn = \"arn:aws:lambda:us-west-2:575108919340:function:RadiologyReportValidatorAgent-575108919340-Lambda\"\n",
    "# print(lambda_client.get_function(FunctionName=lambda_function_name))\n",
    "lambda_client.get_function(FunctionName=lambda_function_name)[\"Configuration\"][\"FunctionArn\"]"
   ]
  },
  {
   "cell_type": "code",
   "execution_count": 102,
   "id": "bd568759-4e1e-41e3-91a1-a5404b48eef9",
   "metadata": {},
   "outputs": [],
   "source": [
    "# Upload the lambda function\n",
    "# Package up the lambda function code and deploy to Lambda function\n",
    "s = BytesIO()\n",
    "z = zipfile.ZipFile(s, 'w')\n",
    "z.write(\"lambda/lambda_function.py\", arcname=\"lambda_function.py\")\n",
    "z.close()\n",
    "zip_content = s.getvalue()\n",
    "\n",
    "lambda_function = lambda_client.update_function_code(\n",
    "    FunctionName=lambda_function_name,\n",
    "    ZipFile=zip_content,\n",
    ")"
   ]
  },
  {
   "cell_type": "code",
   "execution_count": 91,
   "id": "df2b5904-335e-4741-8184-25284d135f60",
   "metadata": {},
   "outputs": [
    {
     "name": "stdout",
     "output_type": "stream",
     "text": [
      "Policy RadiologyReportValidator-Agent-ba-us-west-2-575108919340-RadiologyReportValidator already exists\n"
     ]
    }
   ],
   "source": [
    "# Create IAM policies for agent\n",
    "bedrock_agent_bedrock_allow_policy_statement = {\n",
    "    \"Version\": \"2012-10-17\",\n",
    "    \"Statement\": [\n",
    "        {\n",
    "            \"Sid\": \"AmazonBedrockAgentBedrockFoundationModelPolicy\",\n",
    "            \"Effect\": \"Allow\",\n",
    "            \"Action\": \"bedrock:InvokeModel\",\n",
    "            \"Resource\": [\n",
    "                f\"arn:aws:bedrock:{region}::foundation-model/{agent_foundation_model}\"\n",
    "            ]\n",
    "        }\n",
    "    ]\n",
    "}\n",
    "\n",
    "bedrock_policy_json = json.dumps(bedrock_agent_bedrock_allow_policy_statement)\n",
    "try:\n",
    "    agent_bedrock_policy = iam_client.create_policy(\n",
    "        PolicyName=agent_bedrock_allow_policy_name,\n",
    "        PolicyDocument=bedrock_policy_json\n",
    "    )\n",
    "except Exception:\n",
    "    print(f\"Policy {agent_bedrock_allow_policy_name} already exists\")"
   ]
  },
  {
   "cell_type": "code",
   "execution_count": 17,
   "id": "dbfb77b6-0987-4de7-843c-5f4d926882cf",
   "metadata": {},
   "outputs": [
    {
     "name": "stdout",
     "output_type": "stream",
     "text": [
      "{'Policy': {'PolicyName': 'RadiologyReportValidator-Agent-ba-us-west-2-575108919340-RadiologyReportValidator', 'PolicyId': 'ANPAYLZZJWAWFXMIOUESP', 'Arn': 'arn:aws:iam::575108919340:policy/RadiologyReportValidator-Agent-ba-us-west-2-575108919340-RadiologyReportValidator', 'Path': '/', 'DefaultVersionId': 'v1', 'AttachmentCount': 0, 'PermissionsBoundaryUsageCount': 0, 'IsAttachable': True, 'CreateDate': datetime.datetime(2025, 4, 6, 22, 6, 53, tzinfo=tzlocal()), 'UpdateDate': datetime.datetime(2025, 4, 6, 22, 6, 53, tzinfo=tzlocal())}, 'ResponseMetadata': {'RequestId': '1cfa2f38-5ea8-4f1c-8f96-11e208965c44', 'HTTPStatusCode': 200, 'HTTPHeaders': {'date': 'Sun, 06 Apr 2025 22:06:53 GMT', 'x-amzn-requestid': '1cfa2f38-5ea8-4f1c-8f96-11e208965c44', 'content-type': 'text/xml', 'content-length': '897'}, 'RetryAttempts': 0}}\n"
     ]
    }
   ],
   "source": [
    "print(agent_bedrock_policy)"
   ]
  },
  {
   "cell_type": "code",
   "execution_count": 92,
   "id": "f34ba300-f65e-4d28-8a43-48a0d4d96dc5",
   "metadata": {},
   "outputs": [
    {
     "name": "stdout",
     "output_type": "stream",
     "text": [
      "{'Policy': {'PolicyName': 'RadiologyReportValidator-Agent-ba-us-west-2-575108919340-RadiologyReportValidator', 'PolicyId': 'ANPAYLZZJWAWFXMIOUESP', 'Arn': 'arn:aws:iam::575108919340:policy/RadiologyReportValidator-Agent-ba-us-west-2-575108919340-RadiologyReportValidator', 'Path': '/', 'DefaultVersionId': 'v1', 'AttachmentCount': 0, 'PermissionsBoundaryUsageCount': 0, 'IsAttachable': True, 'CreateDate': datetime.datetime(2025, 4, 6, 22, 6, 53, tzinfo=tzlocal()), 'UpdateDate': datetime.datetime(2025, 4, 6, 22, 6, 53, tzinfo=tzlocal())}, 'ResponseMetadata': {'RequestId': '1cfa2f38-5ea8-4f1c-8f96-11e208965c44', 'HTTPStatusCode': 200, 'HTTPHeaders': {'date': 'Sun, 06 Apr 2025 22:06:53 GMT', 'x-amzn-requestid': '1cfa2f38-5ea8-4f1c-8f96-11e208965c44', 'content-type': 'text/xml', 'content-length': '897'}, 'RetryAttempts': 0}}\n",
      "Error creating role: An error occurred (EntityAlreadyExists) when calling the CreateRole operation: Role with name AmazonBRkExRoleForAgents_RadiologyReportValidator-Agent already exists.. Make sure it doesnt exist already\n"
     ]
    }
   ],
   "source": [
    "# Create IAM Role for the agent and attach IAM policies\n",
    "assume_role_policy_document = {\n",
    "    \"Version\": \"2012-10-17\",\n",
    "    \"Statement\": [{\n",
    "          \"Effect\": \"Allow\",\n",
    "          \"Principal\": {\n",
    "            \"Service\": \"bedrock.amazonaws.com\"\n",
    "          },\n",
    "          \"Action\": \"sts:AssumeRole\"\n",
    "    }]\n",
    "}\n",
    "\n",
    "assume_role_policy_document_json = json.dumps(assume_role_policy_document)\n",
    "print(agent_bedrock_policy)\n",
    "try:\n",
    "    agent_role = iam_client.create_role(\n",
    "        RoleName=agent_role_name,\n",
    "        AssumeRolePolicyDocument=assume_role_policy_document_json\n",
    "    )\n",
    "\n",
    "\n",
    "    # Pause to make sure role is created\n",
    "    time.sleep(10)\n",
    "        \n",
    "    iam_client.attach_role_policy(\n",
    "        RoleName=agent_role_name,\n",
    "        PolicyArn=agent_bedrock_policy['Policy']['Arn']\n",
    "    )\n",
    "except Exception as e:\n",
    "    print(f\"Error creating role: {e}. Make sure it doesnt exist already\")"
   ]
  },
  {
   "cell_type": "code",
   "execution_count": 93,
   "id": "f1d1b6df-cf5b-41a0-83ca-45ca9ac24f7e",
   "metadata": {},
   "outputs": [
    {
     "name": "stdout",
     "output_type": "stream",
     "text": [
      "Agent already exists, skipping creation\n",
      "{'agentId': 'N8EIVIC9QU', 'agentName': 'RadiologyReportValidator-Agent', 'agentStatus': 'PREPARED', 'description': 'Agent for Validating Radiology Reports', 'updatedAt': datetime.datetime(2025, 4, 6, 22, 12, 5, 490240, tzinfo=tzlocal())}\n",
      "{'actionGroupId': 'FDJLD9TCI2', 'actionGroupName': 'RadiologyActionGroup', 'actionGroupState': 'ENABLED', 'description': 'Actions for Validating Radiology Reports or from Machine Learning Models', 'updatedAt': datetime.datetime(2025, 4, 6, 22, 17, 25, 333082, tzinfo=tzlocal())}\n",
      "Using agent_id N8EIVIC9QU and action_group_id FDJLD9TCI2\n"
     ]
    }
   ],
   "source": [
    "try:\n",
    "    response = bedrock_agent_client.create_agent(\n",
    "        agentName=agent_name,\n",
    "        agentResourceRoleArn=agent_role['Role']['Arn'],\n",
    "        description=agent_description,\n",
    "        idleSessionTTLInSeconds=1800,\n",
    "        foundationModel=agent_foundation_model,\n",
    "        instruction=agent_instruction,\n",
    "    )\n",
    "    agent_id = response['agent']['agentId']\n",
    "    print(response)\n",
    "\n",
    "except:\n",
    "    print(\"Agent already exists, skipping creation\")\n",
    "    agent_info = [agent for agent in bedrock_agent_client.list_agents()['agentSummaries'] if agent['agentName']==agent_name][0]\n",
    "    print(agent_info)\n",
    "    agent_id = agent_info['agentId']\n",
    "    agent_version = bedrock_agent_client.list_agent_versions(agentId=agent_id)['agentVersionSummaries'][0]['agentVersion']\n",
    "    response = bedrock_agent_client.list_agent_action_groups(\n",
    "        agentId=agent_id,\n",
    "        agentVersion=agent_version\n",
    "    )\n",
    "    print(response['actionGroupSummaries'][0])\n",
    "    action_group_id = response['actionGroupSummaries'][0]['actionGroupId']\n",
    "    print(f\"Using agent_id {agent_id} and action_group_id {action_group_id}\")"
   ]
  },
  {
   "cell_type": "code",
   "execution_count": 94,
   "id": "ba9af1f2-09b8-4e79-8848-55b6ea8e92d0",
   "metadata": {},
   "outputs": [],
   "source": [
    "agent_functions = [\n",
    "    {\n",
    "        'name': 'validate_radiology_report',\n",
    "        'description': 'validates the radiology report for a given report',\n",
    "        'parameters': {\n",
    "            \"report\": {\n",
    "                \"description\": \"The radiology report for a given patient\",\n",
    "                \"required\": True,\n",
    "                \"type\": \"string\"\n",
    "            }\n",
    "        }\n",
    "    }, \n",
    "    {\n",
    "        'name' : 'check_radiology_report',\n",
    "        'description': 'Check of the given text contains a radiology report', \n",
    "        'parameters': {\n",
    "            'report': {\n",
    "                'description': 'If the text is not a radiology report. Ask for the user to \\\n",
    "                provide the radiology report.',\n",
    "                'required': True,\n",
    "                'type': 'string'\n",
    "            }\n",
    "        }\n",
    "    }, \n",
    "]"
   ]
  },
  {
   "cell_type": "code",
   "execution_count": 95,
   "id": "09efbeae-45d3-4924-a291-627218633e44",
   "metadata": {},
   "outputs": [
    {
     "name": "stdout",
     "output_type": "stream",
     "text": [
      "Action group already exists\n",
      "{'ResponseMetadata': {'RequestId': '451fcbec-b9b0-4860-b0e3-77e88a37bb52', 'HTTPStatusCode': 200, 'HTTPHeaders': {'date': 'Mon, 07 Apr 2025 02:26:04 GMT', 'content-type': 'application/json', 'content-length': '1124', 'connection': 'keep-alive', 'x-amzn-requestid': '451fcbec-b9b0-4860-b0e3-77e88a37bb52', 'x-amz-apigw-id': 'IoWlcEC2vHcEuUw=', 'x-amzn-trace-id': 'Root=1-67f337bc-0c0c59cd36ac9def7da25533'}, 'RetryAttempts': 0}, 'agentActionGroup': {'actionGroupExecutor': {'lambda': 'arn:aws:lambda:us-west-2:575108919340:function:RadiologyReportValidator-575108919340-Lambda'}, 'actionGroupId': 'FDJLD9TCI2', 'actionGroupName': 'RadiologyActionGroup', 'actionGroupState': 'ENABLED', 'agentId': 'N8EIVIC9QU', 'agentVersion': 'DRAFT', 'clientToken': 'a4a6af36-1a1a-4445-9e89-3386770e5115', 'createdAt': datetime.datetime(2025, 4, 6, 22, 17, 25, 333082, tzinfo=tzlocal()), 'description': 'Actions for Validating Radiology Reports or from Machine Learning Models', 'functionSchema': {'functions': [{'description': 'validates the radiology report for a given report', 'name': 'validate_radiology_report', 'parameters': {'report': {'description': 'The radiology report for a given patient', 'required': True, 'type': 'string'}}, 'requireConfirmation': 'DISABLED'}, {'description': 'Check of the given text contains a radiology report', 'name': 'check_radiology_report', 'parameters': {'report': {'description': 'If the text is not a radiology report. Ask for the user to                 provide the radiology report.', 'required': True, 'type': 'string'}}, 'requireConfirmation': 'DISABLED'}]}, 'updatedAt': datetime.datetime(2025, 4, 7, 2, 26, 4, 219353, tzinfo=tzlocal())}}\n"
     ]
    }
   ],
   "source": [
    "try:\n",
    "    agent_action_group_response = bedrock_agent_client.create_agent_action_group(\n",
    "    agentId=agent_id,\n",
    "    agentVersion='DRAFT',\n",
    "    actionGroupExecutor={\n",
    "        'lambda': lambda_function_arn\n",
    "    },\n",
    "    actionGroupName=agent_action_group_name,\n",
    "    functionSchema={\n",
    "        'functions': agent_functions\n",
    "    },\n",
    "    description=agent_action_group_description\n",
    ")\n",
    "except:\n",
    "    print(\"Action group already exists\")\n",
    "    agent_action_group_response = bedrock_agent_client.update_agent_action_group(\n",
    "        agentId=agent_id,\n",
    "        actionGroupId=action_group_id,\n",
    "        agentVersion='DRAFT',\n",
    "        actionGroupExecutor={\n",
    "            'lambda': lambda_function_arn\n",
    "        },\n",
    "        actionGroupName=agent_action_group_name,\n",
    "        functionSchema={\n",
    "            'functions': agent_functions\n",
    "        },\n",
    "        description=agent_action_group_description\n",
    "    )\n",
    "    print(agent_action_group_response)"
   ]
  },
  {
   "cell_type": "code",
   "execution_count": 96,
   "id": "e8b7644f-b9d4-47ce-b772-6cb7272bf336",
   "metadata": {},
   "outputs": [
    {
     "name": "stdout",
     "output_type": "stream",
     "text": [
      "Permission already exists\n"
     ]
    }
   ],
   "source": [
    "try:\n",
    "    response = lambda_client.add_permission(\n",
    "        FunctionName=lambda_function_name,\n",
    "        StatementId='allow_bedrock',\n",
    "        Action='lambda:InvokeFunction',\n",
    "        Principal='bedrock.amazonaws.com',\n",
    "        SourceArn=f\"arn:aws:bedrock:{region}:{account_id}:agent/{agent_id}\",\n",
    "    )\n",
    "    print(response)\n",
    "except: \n",
    "    print(\"Permission already exists\")"
   ]
  },
  {
   "cell_type": "code",
   "execution_count": 97,
   "id": "203b059b-36c3-4d8b-99a3-1925129bac14",
   "metadata": {},
   "outputs": [
    {
     "name": "stdout",
     "output_type": "stream",
     "text": [
      "{'ResponseMetadata': {'RequestId': '4e0481ad-a3cb-43fb-9066-42e553b662ab', 'HTTPStatusCode': 202, 'HTTPHeaders': {'date': 'Mon, 07 Apr 2025 02:26:13 GMT', 'content-type': 'application/json', 'content-length': '119', 'connection': 'keep-alive', 'x-amzn-requestid': '4e0481ad-a3cb-43fb-9066-42e553b662ab', 'x-amz-apigw-id': 'IoWm2E4OPHcEEsQ=', 'x-amzn-trace-id': 'Root=1-67f337c5-3d5411502f6ca03f21624e51'}, 'RetryAttempts': 0}, 'agentId': 'N8EIVIC9QU', 'agentStatus': 'PREPARING', 'agentVersion': 'DRAFT', 'preparedAt': datetime.datetime(2025, 4, 7, 2, 26, 13, 294732, tzinfo=tzlocal())}\n"
     ]
    }
   ],
   "source": [
    "response = bedrock_agent_client.prepare_agent(\n",
    "    agentId=agent_id\n",
    ")\n",
    "print(response)"
   ]
  },
  {
   "cell_type": "code",
   "execution_count": 101,
   "id": "9b416795-92c0-4f4d-b865-a6d79d61b10a",
   "metadata": {},
   "outputs": [
    {
     "name": "stdout",
     "output_type": "stream",
     "text": [
      "N8EIVIC9QU\n",
      "dict_keys(['trace'])\n",
      "dict_keys(['trace'])\n",
      "dict_keys(['trace'])\n"
     ]
    },
    {
     "ename": "EventStreamError",
     "evalue": "An error occurred (dependencyFailedException) when calling the InvokeAgent operation: Your request couldn't be completed. Lambda function arn:aws:lambda:us-west-2:575108919340:function:RadiologyReportValidator-575108919340-Lambda encountered a problem while processing request.The error message from the Lambda function is Unhandled. Check the Lambda function log for error details, then try your request again after fixing the error.",
     "output_type": "error",
     "traceback": [
      "\u001b[0;31m---------------------------------------------------------------------------\u001b[0m",
      "\u001b[0;31mEventStreamError\u001b[0m                          Traceback (most recent call last)",
      "Cell \u001b[0;32mIn[101], line 20\u001b[0m\n\u001b[1;32m     10\u001b[0m response \u001b[38;5;241m=\u001b[39m bedrock_agent_runtime_client\u001b[38;5;241m.\u001b[39minvoke_agent(\n\u001b[1;32m     11\u001b[0m       inputText\u001b[38;5;241m=\u001b[39mtest_query,\n\u001b[1;32m     12\u001b[0m       agentId\u001b[38;5;241m=\u001b[39magent_id,\n\u001b[0;32m   (...)\u001b[0m\n\u001b[1;32m     17\u001b[0m       sessionState\u001b[38;5;241m=\u001b[39m{}\n\u001b[1;32m     18\u001b[0m )\n\u001b[1;32m     19\u001b[0m answer\u001b[38;5;241m=\u001b[39m\u001b[38;5;124m\"\u001b[39m\u001b[38;5;124m\"\u001b[39m\n\u001b[0;32m---> 20\u001b[0m \u001b[38;5;28;43;01mfor\u001b[39;49;00m\u001b[43m \u001b[49m\u001b[43mevent\u001b[49m\u001b[43m \u001b[49m\u001b[38;5;129;43;01min\u001b[39;49;00m\u001b[43m \u001b[49m\u001b[43mresponse\u001b[49m\u001b[43m[\u001b[49m\u001b[38;5;124;43m\"\u001b[39;49m\u001b[38;5;124;43mcompletion\u001b[39;49m\u001b[38;5;124;43m\"\u001b[39;49m\u001b[43m]\u001b[49m\u001b[43m:\u001b[49m\n\u001b[1;32m     21\u001b[0m \u001b[43m    \u001b[49m\u001b[38;5;28;43mprint\u001b[39;49m\u001b[43m(\u001b[49m\u001b[43mevent\u001b[49m\u001b[38;5;241;43m.\u001b[39;49m\u001b[43mkeys\u001b[49m\u001b[43m(\u001b[49m\u001b[43m)\u001b[49m\u001b[43m)\u001b[49m\n\u001b[1;32m     22\u001b[0m     \u001b[38;5;66;03m# if 'chunk' in event:\u001b[39;00m\n\u001b[1;32m     23\u001b[0m     \u001b[38;5;66;03m#     chunk_obj = event['chunk']\u001b[39;00m\n\u001b[1;32m     24\u001b[0m     \u001b[38;5;66;03m#     if 'bytes' in chunk_obj:\u001b[39;00m\n\u001b[1;32m     25\u001b[0m     \u001b[38;5;66;03m#         # Decode the bytes and append to the answer\u001b[39;00m\n\u001b[1;32m     26\u001b[0m     \u001b[38;5;66;03m#         chunk_data = chunk_obj['bytes'].decode('utf-8')\u001b[39;00m\n\u001b[1;32m     27\u001b[0m     \u001b[38;5;66;03m#         answer += chunk_data\u001b[39;00m\n",
      "File \u001b[0;32m/opt/conda/lib/python3.11/site-packages/botocore/eventstream.py:592\u001b[0m, in \u001b[0;36mEventStream.__iter__\u001b[0;34m(self)\u001b[0m\n\u001b[1;32m    590\u001b[0m \u001b[38;5;28;01mdef\u001b[39;00m\u001b[38;5;250m \u001b[39m\u001b[38;5;21m__iter__\u001b[39m(\u001b[38;5;28mself\u001b[39m):\n\u001b[1;32m    591\u001b[0m     \u001b[38;5;28;01mfor\u001b[39;00m event \u001b[38;5;129;01min\u001b[39;00m \u001b[38;5;28mself\u001b[39m\u001b[38;5;241m.\u001b[39m_event_generator:\n\u001b[0;32m--> 592\u001b[0m         parsed_event \u001b[38;5;241m=\u001b[39m \u001b[38;5;28;43mself\u001b[39;49m\u001b[38;5;241;43m.\u001b[39;49m\u001b[43m_parse_event\u001b[49m\u001b[43m(\u001b[49m\u001b[43mevent\u001b[49m\u001b[43m)\u001b[49m\n\u001b[1;32m    593\u001b[0m         \u001b[38;5;28;01mif\u001b[39;00m parsed_event:\n\u001b[1;32m    594\u001b[0m             \u001b[38;5;28;01myield\u001b[39;00m parsed_event\n",
      "File \u001b[0;32m/opt/conda/lib/python3.11/site-packages/botocore/eventstream.py:608\u001b[0m, in \u001b[0;36mEventStream._parse_event\u001b[0;34m(self, event)\u001b[0m\n\u001b[1;32m    606\u001b[0m     \u001b[38;5;28;01mreturn\u001b[39;00m parsed_response\n\u001b[1;32m    607\u001b[0m \u001b[38;5;28;01melse\u001b[39;00m:\n\u001b[0;32m--> 608\u001b[0m     \u001b[38;5;28;01mraise\u001b[39;00m EventStreamError(parsed_response, \u001b[38;5;28mself\u001b[39m\u001b[38;5;241m.\u001b[39m_operation_name)\n",
      "\u001b[0;31mEventStreamError\u001b[0m: An error occurred (dependencyFailedException) when calling the InvokeAgent operation: Your request couldn't be completed. Lambda function arn:aws:lambda:us-west-2:575108919340:function:RadiologyReportValidator-575108919340-Lambda encountered a problem while processing request.The error message from the Lambda function is Unhandled. Check the Lambda function log for error details, then try your request again after fixing the error."
     ]
    }
   ],
   "source": [
    "test_query = \"What is the best gene biomarker (lowest p value) with overall survival for patients that have undergone chemotherapy?\"\n",
    "\n",
    "x =\"Here is the radiology report: FINAL REPORT EXAMINATION : CHEST ( PORTABLE AP ) INDICATION : History :___ F with ett placement TECHNIQUE : Upright AP view of the chest COMPARISON : None . Patient is currently listed as EU critical . \\\n",
    "FINDINGS : Endotracheal tube tip terminates approximately a 4.6 cm from the carina . Enteric tube tip terminates within the distal esophagus and should be advanced by at least 11 cm .Heart size is normal . Gaseous distension of the stomach is noted \"\n",
    "\n",
    "test_query = \"Test\"\n",
    "session_id:str = str(uuid.uuid1())\n",
    "print(agent_id)\n",
    "# test_query = \"Is this a good radiology report? \"\n",
    "response = bedrock_agent_runtime_client.invoke_agent(\n",
    "      inputText=test_query,\n",
    "      agentId=agent_id,\n",
    "      agentAliasId=\"TSTALIASID\", \n",
    "      sessionId=session_id,\n",
    "      enableTrace=True, \n",
    "      endSession=False,\n",
    "      sessionState={}\n",
    ")\n",
    "answer=\"\"\n",
    "for event in response[\"completion\"]:\n",
    "    print(event.keys())\n",
    "    if 'chunk' in event:\n",
    "        chunk_obj = event['chunk']\n",
    "        if 'bytes' in chunk_obj:\n",
    "            # Decode the bytes and append to the answer\n",
    "            chunk_data = chunk_obj['bytes'].decode('utf-8')\n",
    "            answer += chunk_data"
   ]
  },
  {
   "cell_type": "code",
   "execution_count": 85,
   "id": "aaa1991c-10c7-43c5-8e29-2d7c27aca280",
   "metadata": {},
   "outputs": [
    {
     "name": "stdout",
     "output_type": "stream",
     "text": [
      "Could you please provide the radiology report that contains information about gene biomarkers and their association with overall survival in chemotherapy patients? I need to validate that report in order to identify the biomarker with the lowest p-value for overall survival. Once you provide the report, I can process it and answer your question.\n"
     ]
    }
   ],
   "source": [
    "print(answer)"
   ]
  },
  {
   "cell_type": "code",
   "execution_count": null,
   "id": "f19e7b74-8a2c-4798-80e9-3763ab34365f",
   "metadata": {},
   "outputs": [],
   "source": []
  }
 ],
 "metadata": {
  "kernelspec": {
   "display_name": "Python 3 (ipykernel)",
   "language": "python",
   "name": "python3"
  },
  "language_info": {
   "codemirror_mode": {
    "name": "ipython",
    "version": 3
   },
   "file_extension": ".py",
   "mimetype": "text/x-python",
   "name": "python",
   "nbconvert_exporter": "python",
   "pygments_lexer": "ipython3",
   "version": "3.11.11"
  }
 },
 "nbformat": 4,
 "nbformat_minor": 5
}
