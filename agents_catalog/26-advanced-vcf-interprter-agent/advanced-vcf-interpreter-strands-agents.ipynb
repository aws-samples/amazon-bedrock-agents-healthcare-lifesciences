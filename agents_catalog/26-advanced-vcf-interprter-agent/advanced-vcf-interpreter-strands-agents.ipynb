{
 "cells": [
  {
   "cell_type": "markdown",
   "id": "9e257d07-7def-4a67-befd-534f938098f8",
   "metadata": {},
   "source": [
    "## Advanced Variant Interpreter Agent with Strands \n",
    "In this notebook we create the biomarker database analyst agent using the open-source Strands agents framework.\n",
    "The main analysis functions are imported from vcf_genomic_functions.py while agent creation and tools are defined here."
   ]
  },
  {
   "cell_type": "markdown",
   "id": "b77ba354-5d21-42cb-b344-b079948aecf9",
   "metadata": {},
   "source": [
    "#### Install Strands agents and required dependencies"
   ]
  },
  {
   "cell_type": "code",
   "execution_count": null,
   "id": "e35d398d-a363-4e17-810f-de363f42af5e",
   "metadata": {},
   "outputs": [],
   "source": [
    "%pip install strands-agents strands-agents-tools --quiet"
   ]
  },
  {
   "cell_type": "markdown",
   "id": "fb592668-d43d-4b17-afd7-74a53f824356",
   "metadata": {},
   "source": [
    "#### Ensure the latest version of boto3 is shown below\n",
    "\n",
    "Ensure the boto3 version printed below is 1.37.1 or higher."
   ]
  },
  {
   "cell_type": "code",
   "execution_count": null,
   "id": "caa25607-b5f5-40df-9d50-34b163734919",
   "metadata": {},
   "outputs": [],
   "source": [
    "%pip show boto3"
   ]
  },
  {
   "cell_type": "markdown",
   "id": "0f8ef470-5ef2-4516-9625-4388d55d5861",
   "metadata": {},
   "source": [
    "#### Import required libraries and main analysis functions"
   ]
  },
  {
   "cell_type": "code",
   "execution_count": null,
   "id": "7dd41642-da4c-4ff1-993c-7fd6cf9b70ea",
   "metadata": {},
   "outputs": [],
   "source": [
    "import boto3\n",
    "import json\n",
    "import time\n",
    "import re\n",
    "from collections import defaultdict\n",
    "from typing import Dict, Any\n",
    "from strands import Agent, tool\n",
    "from strands.models import BedrockModel\n",
    "\n",
    "# Import main analysis functions from separate module\n",
    "from vcf_genomic_functions import (\n",
    "    execute_genomic_analysis,\n",
    "    list_available_patients_internal,\n",
    "    REGION,\n",
    "    ACCOUNT_ID\n",
    ")\n",
    "\n",
    "# Get AWS account information\n",
    "sts_client = boto3.client('sts')\n",
    "account_id = sts_client.get_caller_identity()['Account']\n",
    "region = boto3.Session().region_name\n",
    "\n",
    "print(f\"Region: {region}\")\n",
    "print(f\"Account ID: {account_id}\")\n",
    "print(f\"✅ Successfully imported main analysis functions\")"
   ]
  },
  {
   "cell_type": "markdown",
   "id": "177fea21-1938-4bd4-b1ce-32d266f021f6",
   "metadata": {},
   "source": [
    "#### Prerequisites\n",
    "\n",
    "Run through the notebook environment setup in Prerequisites-setup_environment.ipynb "
   ]
  },
  {
   "cell_type": "markdown",
   "id": "733857c7-f1e9-4bec-8079-1cfb49160b2b",
   "metadata": {},
   "source": [
    "#### Setup AWS clients\n",
    "Define the clients to AWS services that will be used by tools."
   ]
  },
  {
   "cell_type": "code",
   "execution_count": null,
   "id": "715429b5-4a54-4929-92a4-61730e76f311",
   "metadata": {},
   "outputs": [],
   "source": [
    "# Initialize AWS clients (these are also initialized in the imported functions)\n",
    "bedrock_client = boto3.client('bedrock-runtime', region_name=region)\n",
    "dynamodb = boto3.client('dynamodb')\n",
    "athena_client = boto3.client('athena')\n",
    "glue_client = boto3.client('glue')\n",
    "ram_client = boto3.client('ram')\n",
    "\n",
    "print(f\"Region: {region}\")\n",
    "print(f\"Account ID: {account_id}\")"
   ]
  },
  {
   "cell_type": "markdown",
   "id": "5ca3427c-2943-444b-a707-be8e5e9754e5",
   "metadata": {},
   "source": [
    "## Strands Agent Creation\n",
    "In this section we create the agent using the Strands framework"
   ]
  },
  {
   "cell_type": "markdown",
   "id": "116afc2e-a8e5-46ac-a770-97bdfb40258b",
   "metadata": {},
   "source": [
    "#### Define agent configuration and instructions"
   ]
  },
  {
   "cell_type": "code",
   "execution_count": 5,
   "id": "5ff71c96-a023-406f-bc29-d47190fe42c1",
   "metadata": {},
   "outputs": [],
   "source": [
    "vcf_agent_name = 'VCF-genomic-analyst-strands'\n",
    "vcf_agent_description = \"VCF genomic variant analysis engine using Strands framework\"\n",
    "vcf_agent_instruction = \"\"\"\n",
    "You are a genomic research assistant AI specialized in analyzing VCF (Variant Call Format) data and genomic variants from AWS HealthOmics. \n",
    "Your primary task is to interpret user queries about genomic variants, execute appropriate analyses, and provide relevant genomic insights based on the data.\n",
    "Use only the appropriate tools as required by the specific question. Follow these instructions carefully:\n",
    "\n",
    "IMPORTANT: Never apologize or say \"I apologize for the error\" unless there's an actual error.\n",
    "If a query returns no results, simply state the facts: \"No variants found matching your criteria.\"\n",
    "\n",
    "When calling functions:\n",
    "- If successful: Present results directly\n",
    "- If no data found: State \"No data found for [specific criteria]\"  \n",
    "- If actual error: State \"Error occurred: [specific error message]\"\n",
    "\n",
    "Do not add conversational fluff or apologetic language.\n",
    "\n",
    "1. Before analyzing variants for specific patients:\n",
    "   a. Use the list_available_patients tool to check which patients have processed VCF data available.\n",
    "   b. Verify that the requested patient IDs exist in the system before proceeding with analysis.\n",
    "\n",
    "2. When performing variant analysis:\n",
    "   a. Use analyze_patient_variants for structured queries with specific analysis types:\n",
    "      - variant_count: Count total variants for patients\n",
    "      - pathogenic_variants: Find clinically significant pathogenic variants\n",
    "      - benign_variants: Find benign variants with ClinVar annotations\n",
    "      - pharmacogenomic_variants: Find variants affecting drug metabolism\n",
    "      - gene_analysis: Analyze variants in specific genes\n",
    "      - clinical_significance: Analyze distribution of clinical significance\n",
    "      - chromosome_analysis: Analyze variants by chromosome\n",
    "      - frequency_analysis: Analyze variant allele frequencies\n",
    "      - common_variants: Find variants shared across multiple patients\n",
    "      - compare_patients: Compare variant profiles between patients\n",
    "   b. Use query_genomic_data for natural language queries that need interpretation.\n",
    "   c. Use list_available_patients for total number of samples and other ID related information\n",
    "\n",
    "3. When providing genomic insights:\n",
    "   a. Always explain the clinical significance of pathogenic variants found.\n",
    "   b. For pharmacogenomic variants, mention potential drug interactions or metabolism effects.\n",
    "   c. Provide context about variant frequencies and population genetics when relevant.\n",
    "   d. Explain the difference between high-impact and moderate-impact variants.\n",
    "\n",
    "4. When responding to user queries:\n",
    "   a. Start with a brief summary of your understanding of the genomic query.\n",
    "   b. Explain the analysis approach you're taking.\n",
    "   c. Present the results with appropriate genomic context and clinical interpretation.\n",
    "   d. Suggest follow-up analyses if relevant (e.g., gene-specific analysis after finding pathogenic variants).\n",
    "\n",
    "5. Important genomic considerations:\n",
    "   a. Always mention data sources (ClinVar annotations, variant stores) when applicable.\n",
    "   b. Explain limitations of the analysis (e.g., annotation coverage, variant calling quality).\n",
    "   c. Provide appropriate disclaimers for clinical interpretation of variants.\n",
    "   d. Suggest consulting with genetic counselors for clinical decision-making when appropriate.\n",
    "\"\"\""
   ]
  },
  {
   "cell_type": "markdown",
   "id": "parse-query-header",
   "metadata": {},
   "source": [
    "#### Define helper function for query parsing (needed by tools)"
   ]
  },
  {
   "cell_type": "code",
   "execution_count": null,
   "id": "parse-query-cell",
   "metadata": {},
   "outputs": [],
   "source": [
    "def parse_user_query(query):\n",
    "    \"\"\"\n",
    "    Enhanced parser for genomic analysis queries (needed by tools)\n",
    "    \"\"\"\n",
    "    query_lower = query.lower()\n",
    "    \n",
    "    # Extract patient/sample ID patterns\n",
    "    patient_patterns = [\n",
    "        r'patient\\s+(\\w+)',\n",
    "        r'sample\\s+(\\w+)', \n",
    "        r'id\\s+(\\w+)',\n",
    "        r'(\\bNA\\d+\\b)',  # Common pattern like NA21135\n",
    "        r'(\\bHG\\d+\\b)',  # Another common pattern\n",
    "        r'(\\b\\d{7}\\b)',  # 7-digit patient IDs\n",
    "    ]\n",
    "    \n",
    "    patient_ids = []\n",
    "    for pattern in patient_patterns:\n",
    "        matches = re.findall(pattern, query, re.IGNORECASE)\n",
    "        patient_ids.extend(matches)\n",
    "    \n",
    "    # Remove duplicates\n",
    "    patient_ids = list(set(patient_ids))\n",
    "    \n",
    "    # Enhanced query type detection for genomic analysis\n",
    "    query_type = 'unknown'\n",
    "    if 'variant' in query_lower and 'count' in query_lower:\n",
    "        query_type = 'variant_count'\n",
    "    elif 'common variant' in query_lower or 'shared variant' in query_lower:\n",
    "        query_type = 'common_variants'\n",
    "    elif 'pathogenic' in query_lower or 'disease' in query_lower:\n",
    "        query_type = 'pathogenic_variants'\n",
    "    elif 'benign' in query_lower:\n",
    "        query_type = 'benign_variants'\n",
    "    elif 'pharmacogenomic' in query_lower or 'drug' in query_lower or 'medication' in query_lower:\n",
    "        query_type = 'pharmacogenomic_variants'\n",
    "    elif 'gene symbol' in query_lower or 'gene name' in query_lower:\n",
    "        query_type = 'gene_analysis'\n",
    "    elif 'protein' in query_lower and ('deletion' in query_lower or 'truncation' in query_lower):\n",
    "        query_type = 'protein_affecting_variants'\n",
    "    elif 'clinical significance' in query_lower or 'clnsig' in query_lower:\n",
    "        query_type = 'clinical_significance'\n",
    "    elif 'annotation' in query_lower:\n",
    "        query_type = 'annotated_variants'\n",
    "    elif 'compare' in query_lower:\n",
    "        query_type = 'compare_patients'\n",
    "    elif 'list' in query_lower and 'patient' in query_lower:\n",
    "        query_type = 'list_patients'\n",
    "    elif 'chromosome' in query_lower or 'chr' in query_lower:\n",
    "        query_type = 'chromosome_analysis'\n",
    "    elif 'frequency' in query_lower or 'allele frequency' in query_lower:\n",
    "        query_type = 'frequency_analysis'\n",
    "    \n",
    "    # Extract additional parameters\n",
    "    gene_pattern = r'gene\\s+(\\w+)'\n",
    "    genes = re.findall(gene_pattern, query, re.IGNORECASE)\n",
    "    \n",
    "    chromosome_pattern = r'chr(?:omosome)?\\s*(\\d+|[XY])'\n",
    "    chromosomes = re.findall(chromosome_pattern, query, re.IGNORECASE)\n",
    "    \n",
    "    return {\n",
    "        'patient_ids': patient_ids,\n",
    "        'query_type': query_type,\n",
    "        'genes': genes,\n",
    "        'chromosomes': chromosomes,\n",
    "        'original_query': query\n",
    "    }\n",
    "\n",
    "print(\"✅ Query parsing function defined\")"
   ]
  },
  {
   "cell_type": "markdown",
   "id": "1fca2894-0410-431a-87f4-806d557a305c",
   "metadata": {},
   "source": [
    "#### Define tools for Strands agent\n",
    "These tools will invoke different services to perform operations for the agent"
   ]
  },
  {
   "cell_type": "code",
   "execution_count": null,
   "id": "b1ff1893-e2e9-4e41-beda-5af44fb330b8",
   "metadata": {},
   "outputs": [],
   "source": [
    "# === STRANDS AGENT TOOLS ===\n",
    "\n",
    "@tool\n",
    "def analyze_patient_variants(patient_ids: str, analysis_type: str = \"variant_count\", genes: str = \"\", chromosomes: str = \"\") -> str:\n",
    "    \"\"\"Analyze genomic variants for specific patients with various analysis types.\n",
    "    \n",
    "    Args:\n",
    "        patient_ids: Comma-separated list of patient IDs to analyze\n",
    "        analysis_type: Type of analysis (variant_count, pathogenic_variants, pharmacogenomic_variants, clinical_significance, etc.)\n",
    "        genes: Comma-separated list of genes to focus on (optional)\n",
    "        chromosomes: Comma-separated list of chromosomes to analyze (optional)\n",
    "    \n",
    "    Returns:\n",
    "        JSON string with analysis results\n",
    "    \"\"\"\n",
    "    try:\n",
    "        # Convert string inputs to lists if needed\n",
    "        patient_list = patient_ids.split(',') if isinstance(patient_ids, str) else [patient_ids]\n",
    "        patient_list = [p.strip() for p in patient_list]  # Remove whitespace\n",
    "        \n",
    "        gene_list = genes.split(',') if genes else []\n",
    "        gene_list = [g.strip() for g in gene_list if g.strip()]  # Remove empty strings\n",
    "        \n",
    "        chromosome_list = chromosomes.split(',') if chromosomes else []\n",
    "        chromosome_list = [c.strip() for c in chromosome_list if c.strip()]  # Remove empty strings\n",
    "        \n",
    "        analysis_request = {\n",
    "            'patient_ids': patient_list,\n",
    "            'query_type': analysis_type,\n",
    "            'genes': gene_list,\n",
    "            'chromosomes': chromosome_list,\n",
    "            'original_query': f\"Analyze {analysis_type} for patients {patient_list}\"\n",
    "        }\n",
    "        \n",
    "        # Call the main analysis function from the imported module\n",
    "        result = execute_genomic_analysis(analysis_request)\n",
    "        return json.dumps(result, indent=2)\n",
    "            \n",
    "    except Exception as e:\n",
    "        return f\"Error analyzing patient variants: {str(e)}\"\n",
    "\n",
    "@tool\n",
    "def query_genomic_data(query: str) -> str:\n",
    "    \"\"\"Send a natural language query to analyze genomic data and variants.\n",
    "    \n",
    "    Args:\n",
    "        query: Natural language query about genomic variants\n",
    "    \n",
    "    Returns:\n",
    "        JSON string with analysis results\n",
    "    \"\"\"\n",
    "    try:\n",
    "        # Parse the query using the local function\n",
    "        analysis_request = parse_user_query(query)\n",
    "        \n",
    "        if not analysis_request or analysis_request['query_type'] == 'unknown':\n",
    "            return 'Could not understand the query. Please provide more specific information about patients, variants, or genes.'\n",
    "        \n",
    "        # Call the main analysis function from the imported module\n",
    "        result = execute_genomic_analysis(analysis_request)\n",
    "        return json.dumps(result, indent=2)\n",
    "        \n",
    "    except Exception as e:\n",
    "        return f\"Error querying genomic data: {str(e)}\"\n",
    "\n",
    "@tool\n",
    "def list_available_patients() -> str:\n",
    "    \"\"\"Get a list of all patients with processed VCF data available for analysis.\n",
    "    \n",
    "    Returns:\n",
    "        JSON string with list of available patients\n",
    "    \"\"\"\n",
    "    try:\n",
    "        # Call the main function from the imported module\n",
    "        result = list_available_patients_internal()\n",
    "        return json.dumps(result, indent=2)\n",
    "        \n",
    "    except Exception as e:\n",
    "        return f\"Error listing available patients: {str(e)}\"\n",
    "\n",
    "print(\"✅ Strands agent tools defined\")"
   ]
  },
  {
   "cell_type": "markdown",
   "id": "fd6d77cb-6ae0-4339-8469-0fab30c6247b",
   "metadata": {},
   "source": [
    "#### Setup AWS Bedrock provider for Strands"
   ]
  },
  {
   "cell_type": "code",
   "execution_count": null,
   "id": "c3408617-e6f3-4a4d-badb-73d2a504b6e1",
   "metadata": {},
   "outputs": [],
   "source": [
    "# Create list of tools\n",
    "vcf_agent_tools = [analyze_patient_variants, query_genomic_data, list_available_patients]\n",
    "print(f\"Created {len(vcf_agent_tools)} tools for the VCF Strands agent\")\n",
    "print(\"Available tools:\")\n",
    "for i, tool_func in enumerate(vcf_agent_tools, 1):\n",
    "    print(f\"  {i}. {tool_func.__name__}\")"
   ]
  },
  {
   "cell_type": "markdown",
   "id": "771a0c88-d559-41c0-ad71-59e932c6b6e2",
   "metadata": {},
   "source": [
    "#### Create the Strands agent"
   ]
  },
  {
   "cell_type": "code",
   "execution_count": null,
   "id": "36aafea0-0fd8-46f9-af20-cc971426cc18",
   "metadata": {},
   "outputs": [],
   "source": [
    "# Create Bedrock model for Strands with error handling\n",
    "try:\n",
    "    model = BedrockModel(\n",
    "        model_id=\"us.anthropic.claude-3-7-sonnet-20250219-v1:0\",\n",
    "        region_name=region,\n",
    "        temperature=0.1,\n",
    "        streaming=False\n",
    "    )\n",
    "    print(\"✅ Bedrock model initialized successfully\")\n",
    "except Exception as e:\n",
    "    print(f\"⚠️ Warning: Could not initialize Bedrock model: {e}\")\n",
    "    print(\"Model functionality may not work without proper AWS configuration.\")\n",
    "    model = None"
   ]
  },
  {
   "cell_type": "code",
   "execution_count": null,
   "id": "22e20241-f317-453d-9f6c-4b0ce8143f05",
   "metadata": {},
   "outputs": [],
   "source": [
    "# Create the Strands agent\n",
    "try:\n",
    "    vcf_agent = Agent(\n",
    "        model=model,\n",
    "        tools=vcf_agent_tools,\n",
    "        system_prompt=vcf_agent_instruction\n",
    "    )\n",
    "    \n",
    "    print(\"✅ Successfully created Strands agent\")\n",
    "    print(f\"Agent has {len(vcf_agent_tools)} tools available\")\n",
    "    print(\"\\nThe agent can now call the main analysis functions from vcf_genomic_functions.py\")\n",
    "    \n",
    "except Exception as e:\n",
    "    print(f\"❌ Error creating agent: {e}\")\n",
    "    raise"
   ]
  },
  {
   "cell_type": "markdown",
   "id": "7b9949be-78ed-43d2-9775-a54991f095a3",
   "metadata": {},
   "source": [
    "## Testing the Agent\n",
    "Test the agent with various genomic analysis queries"
   ]
  },
  {
   "cell_type": "markdown",
   "id": "test1-header",
   "metadata": {},
   "source": [
    "### Test 1: List Available Patients"
   ]
  },
  {
   "cell_type": "code",
   "execution_count": null,
   "id": "76a2099b-63f0-4cf2-bc66-bc52b18cc816",
   "metadata": {},
   "outputs": [],
   "source": [
    "# Example queries to test the complete system\n",
    "\n",
    "# Test 1: VCF query\n",
    "print(\"Testing vcf analyst...\")\n",
    "response1 = vcf_agent(\"Howmany patients are there in present cohort?\")\n",
    "print(f\"Response 1: {response1}\\n\")"
   ]
  },
  {
   "cell_type": "markdown",
   "id": "test2-header",
   "metadata": {},
   "source": [
    "### Test 2: Variant Count Analysis"
   ]
  },
  {
   "cell_type": "code",
   "execution_count": null,
   "id": "test2-cell",
   "metadata": {},
   "outputs": [],
   "source": [
    "# Example queries to test the complete system\n",
    "\n",
    "# Test 2: VCF query\n",
    "print(\"Testing vcf analyst...\")\n",
    "response1 = vcf_agent(\"How many pathogenic variants did you find in patient NA21135?\")\n",
    "print(f\"Response 1: {response1}\\n\")"
   ]
  },
  {
   "cell_type": "markdown",
   "id": "test3-header",
   "metadata": {},
   "source": [
    "### Test 3: Phramcogenomic Variants Analysis"
   ]
  },
  {
   "cell_type": "code",
   "execution_count": null,
   "id": "test3-cell",
   "metadata": {},
   "outputs": [],
   "source": [
    "# Example queries to test the complete system\n",
    "\n",
    "# Test 4: VCF query\n",
    "print(\"Testing vcf analyst...\")\n",
    "response1 = vcf_agent(\"Are there any pharmacogenomic variants does patient NA21144 have?\")\n",
    "print(f\"Response 1: {response1}\\n\")"
   ]
  },
  {
   "cell_type": "markdown",
   "id": "test4-header",
   "metadata": {},
   "source": [
    "### Test 4: Pathway-related Query"
   ]
  },
  {
   "cell_type": "code",
   "execution_count": null,
   "id": "test4-cell",
   "metadata": {},
   "outputs": [],
   "source": [
    "# Example queries to test the complete system\n",
    "\n",
    "# Test 5: VCF query\n",
    "print(\"Testing vcf analyst...\")\n",
    "response1 = vcf_agent(\"which is the major drug related impactful variant pathway enriched in NA21142\")\n",
    "print(f\"Response 1: {response1}\\n\")"
   ]
  },
  {
   "cell_type": "markdown",
   "id": "5bf757f6-9013-48e8-a79e-1f1478374ba0",
   "metadata": {},
   "source": [
    "#### Test 5: Comparative patients query"
   ]
  },
  {
   "cell_type": "code",
   "execution_count": null,
   "id": "b78a54d2-73a0-457b-bf20-7cae055743f7",
   "metadata": {},
   "outputs": [],
   "source": [
    "# Example queries to test the complete system\n",
    "\n",
    "# Test 6: VCF query\n",
    "print(\"Testing vcf analyst...\")\n",
    "response1 = vcf_agent(\"Can you compare pathogenicity presence in patients 'NA21135' and 'NA21143'\")\n",
    "print(f\"Response 1: {response1}\\n\")"
   ]
  },
  {
   "cell_type": "markdown",
   "id": "48b60d9b-8486-401d-8b3f-c53fe7de6bb2",
   "metadata": {},
   "source": [
    "#### Test 6 Comprehensive reporting query"
   ]
  },
  {
   "cell_type": "code",
   "execution_count": null,
   "id": "6ac81372-1cf4-4a76-81eb-66382c91d209",
   "metadata": {},
   "outputs": [],
   "source": [
    "# Example queries to test the complete system\n",
    "\n",
    "# Test 7: VCF query\n",
    "print(\"Testing vcf analyst...\")\n",
    "response1 = vcf_agent(\"Analyze the patients genomic cohort and provide a comprehensive clinical report including: individual risk stratification, population-level insights, shared pathogenic variants, personalized medicine recommendations, and clinical prioritization for genetic counseling. And let me know how do you assess the risk and prioritization?\")\n",
    "print(f\"Response 1: {response1}\\n\")"
   ]
  },
  {
   "cell_type": "markdown",
   "id": "a6aef045-ac62-4336-b186-c1ab08365c68",
   "metadata": {},
   "source": [
    "#### Test 7: Comparative patients query"
   ]
  },
  {
   "cell_type": "code",
   "execution_count": null,
   "id": "da678835-fdcd-4cf2-b357-b2fc122706ed",
   "metadata": {},
   "outputs": [],
   "source": [
    "# Example queries to test the complete system\n",
    "\n",
    "# Test 8: VCF query\n",
    "print(\"Testing vcf analyst...\")\n",
    "response1 = vcf_agent(\"I'm concerned about cardiovascular risk in this patient cohort. Can you identify which patients have lipid metabolism gene variants and rank their cardiac risk?\")\n",
    "print(f\"Response 1: {response1}\\n\")"
   ]
  },
  {
   "cell_type": "code",
   "execution_count": null,
   "id": "9cc7fd02-a8d1-432d-8ed9-78930fb96f0c",
   "metadata": {},
   "outputs": [],
   "source": []
  }
 ],
 "metadata": {
  "kernelspec": {
   "display_name": "conda_python3",
   "language": "python",
   "name": "conda_python3"
  },
  "language_info": {
   "codemirror_mode": {
    "name": "ipython",
    "version": 3
   },
   "file_extension": ".py",
   "mimetype": "text/x-python",
   "name": "python",
   "nbconvert_exporter": "python",
   "pygments_lexer": "ipython3",
   "version": "3.10.18"
  }
 },
 "nbformat": 4,
 "nbformat_minor": 5
}
