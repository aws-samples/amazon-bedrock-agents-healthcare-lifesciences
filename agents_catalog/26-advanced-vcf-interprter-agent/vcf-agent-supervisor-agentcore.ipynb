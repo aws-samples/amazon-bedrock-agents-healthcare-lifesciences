{
 "cells": [
  {
   "cell_type": "markdown",
   "id": "40bc8c01-eb98-4fba-a006-03d4629e739a",
   "metadata": {},
   "source": [
    "## Create VCF Genomic Analysis Agent"
   ]
  },
  {
   "cell_type": "markdown",
   "id": "36e378c1-23de-4fcd-b723-65ae82b03559",
   "metadata": {},
   "source": [
    "In this notebook we create the VCF Genomic Analysis Agent that will analyze genomic variants and provide clinical insights using the Strands framework. The agent will be deployed using Bedrock AgentCore."
   ]
  },
  {
   "cell_type": "markdown",
   "id": "772d7322-a753-4a40-840c-fec624c91e5c",
   "metadata": {},
   "source": [
    "#### Upgrade boto3 to the latest version with support for Bedrock AgentCore"
   ]
  },
  {
   "cell_type": "code",
   "execution_count": null,
   "id": "a1f653ec-ca71-407b-8b02-ae1f83c384a6",
   "metadata": {},
   "outputs": [],
   "source": [
    "%pip install --upgrade boto3"
   ]
  },
  {
   "cell_type": "markdown",
   "id": "160e0fed-719f-47a0-98f8-126fb64efd7e",
   "metadata": {},
   "source": [
    "#### Ensure the latest version of boto3 is shown below"
   ]
  },
  {
   "cell_type": "markdown",
   "id": "4c256301-f7b9-400a-82c3-050227ad2363",
   "metadata": {},
   "source": [
    "Ensure the boto3 version printed below is 1.39 or higher."
   ]
  },
  {
   "cell_type": "code",
   "execution_count": null,
   "id": "86bee1a6-f376-4037-8f05-dcb4783301f4",
   "metadata": {},
   "outputs": [],
   "source": [
    "%pip show boto3"
   ]
  },
  {
   "cell_type": "markdown",
   "id": "a4878f40-7b98-49fe-8376-cef20e88e3f2",
   "metadata": {},
   "source": [
    "Install Strands agents and AgentCore dependencies"
   ]
  },
  {
   "cell_type": "code",
   "execution_count": null,
   "id": "c91e4fe0-7516-48c8-b6cd-035b9d3926a3",
   "metadata": {},
   "outputs": [],
   "source": [
    "%pip install strands-agents strands-agents-tools bedrock-agentcore bedrock-agentcore-starter-toolkit --quiet"
   ]
  },
  {
   "cell_type": "code",
   "execution_count": null,
   "id": "5cf96f71-7465-4a86-bf47-a8f326534d8b",
   "metadata": {},
   "outputs": [],
   "source": [
    "%run create_agent_role.py"
   ]
  },
  {
   "cell_type": "markdown",
   "id": "36f971e6-f615-4463-a4df-469d43dbbfdd",
   "metadata": {},
   "source": [
    "#### Import required libraries"
   ]
  },
  {
   "cell_type": "code",
   "execution_count": 10,
   "id": "550e8421-f052-48dc-a9b6-006d903e3c74",
   "metadata": {},
   "outputs": [],
   "source": [
    "from utils.magic_helper import register_cell_magic"
   ]
  },
  {
   "cell_type": "markdown",
   "id": "c24749e6-8abb-4d25-8b58-b1bd9ab3c8d8",
   "metadata": {},
   "source": [
    "#### Agent Creation"
   ]
  },
  {
   "cell_type": "markdown",
   "id": "b3cc3258-ee1b-4c30-a13d-b10a8fc60d3b",
   "metadata": {},
   "source": [
    "In this section we create the genomic analysis agent"
   ]
  },
  {
   "cell_type": "markdown",
   "id": "a35972c6-bddc-46cf-b9e3-66086f8f9c74",
   "metadata": {},
   "source": [
    "#### Agents as Tools with Strands Agents\n"
   ]
  },
  {
   "cell_type": "markdown",
   "id": "f2d0eaf3-8d63-4a88-99ab-03c9cb07d720",
   "metadata": {},
   "source": [
    "\"Agents as Tools\" is an architectural pattern in AI systems where specialized AI agents are wrapped as callable functions (tools) that can be used by other agents. This creates a hierarchical structure where:\n",
    "\n",
    "1. A primary \"orchestrator\" agent handles user interaction and determines which specialized agent to call\n",
    "2. Specialized \"tool agents\" perform domain-specific tasks when called by the orchestrator\n",
    "This approach mimics human team dynamics, where a manager coordinates specialists, each bringing unique expertise to solve complex problems. Rather than a single agent trying to handle everything, tasks are delegated to the most appropriate specialized agent.\n",
    "\n",
    "This approach mimics human team dynamics, where a manager coordinates specialists, each bringing unique expertise to solve complex problems. Rather than a single agent trying to handle everything, tasks are delegated to the most appropriate specialized agent."
   ]
  },
  {
   "cell_type": "code",
   "execution_count": null,
   "id": "6aeca89f-6f3d-49d0-9df9-f306ded2b88c",
   "metadata": {},
   "outputs": [],
   "source": [
    "%%write_and_run vcf_agent_supervisor.py\n",
    "\n",
    "import boto3\n",
    "import json\n",
    "import uuid\n",
    "import requests\n",
    "from typing import Dict, Any\n",
    "from strands import Agent, tool\n",
    "from strands.models import BedrockModel\n",
    "\n",
    "from vcf_interpreters import *\n",
    "\n",
    "# 1: vcf_interpreter_agent tool\n",
    "\n",
    "@tool\n",
    "def vcf_genomic_analyst(query: str) -> str:\n",
    "    \"\"\"\n",
    "    Create vcf interpreter agent with lake formation tables using Strands framework\n",
    "\n",
    "    Args:\n",
    "        query: An information request from the vcf database\n",
    "\n",
    "    Returns:\n",
    "        A summary of the understanding of the user's query and the response.\n",
    "    \"\"\"\n",
    "    try:\n",
    "        vcf_sup_agent = Agent(\n",
    "            model=model,\n",
    "            tools=vcf_agent_tools,\n",
    "            system_prompt=vcf_agent_instruction\n",
    "        )\n",
    "        vcf_agent_response = vcf_sup_agent(query)\n",
    "        print(\"VCF Genomic Analysis Agent Response:\")\n",
    "        print(vcf_agent_response)\n",
    "        return vcf_agent_response\n",
    "    except Exception as e:\n",
    "        print(f\"Error creating agent: {e}\")\n",
    "        raise\n",
    "\n",
    "# Define orchestrator agent configuration below\n",
    "\n",
    "agent_name = \"vcf-genomic-analyst\"\n",
    "agent_description = \"VCF genomic analysis agent for clinical insights discovery\"\n",
    "agent_instruction = \"\"\"You are a genomic research assistant AI specialized in VCF (Variant Call Format) data analysis and genomic variant interpretation from AWS HealthOmics.\n",
    "Your primary task is to interpret user queries about genomic variants, analyze VCF data, and provide comprehensive genomic insights based on the data.\n",
    "\n",
    "Use the vcf_genomic_analyst tool for all genomic variant analysis tasks including:\n",
    "- Patient variant counting and profiling\n",
    "- Pathogenic and benign variant identification\n",
    "- Pharmacogenomic variant analysis\n",
    "- Gene-specific variant analysis\n",
    "- Clinical significance interpretation\n",
    "- Chromosome-based variant distribution\n",
    "- Variant frequency analysis\n",
    "- Cross-patient variant comparison\n",
    "- Patient data availability queries\n",
    "- Total number of unique patients\n",
    "\n",
    "When providing your response:\n",
    "a. Start with a brief summary of your understanding of the genomic query.\n",
    "b. Explain the analysis approach you're taking.\n",
    "c. Present the results from the VCF analyst with appropriate genomic context.\n",
    "d. Provide clinical interpretation and significance of findings.\n",
    "e. Suggest follow-up analyses or clinical considerations when relevant.\n",
    "f. Include appropriate disclaimers about clinical decision-making.\n",
    "\n",
    "Make sure to explain genomic concepts, variant classifications, and clinical significance in a clear, accessible manner.\n",
    "Always emphasize the importance of genetic counseling for clinical interpretation of genomic variants.\n",
    "\n",
    "\"\"\"\n",
    "\n",
    "# Define the model\n",
    "bedrock_model = BedrockModel(\n",
    "    model_id=\"us.anthropic.claude-3-7-sonnet-20250219-v1:0\", \n",
    "    region_name=region,\n",
    "    temperature=0.1,\n",
    "    streaming=False\n",
    ")\n",
    "\n",
    "# Instantiate the orchestrator agent\n",
    "try:\n",
    "    orchestrator = Agent(\n",
    "        model=bedrock_model,\n",
    "        system_prompt=agent_instruction,\n",
    "        callback_handler=None,\n",
    "        # associate genomic analysis tools\n",
    "        tools=[vcf_genomic_analyst]\n",
    "    )\n",
    "    print(f\"Successfully created orchestrator agent: {agent_name}\")\n",
    "except Exception as e:\n",
    "    print(f\"Error creating agent: {e}\")\n",
    "    raise"
   ]
  },
  {
   "cell_type": "markdown",
   "id": "22596eb2-b20b-426b-af3d-a32da268c653",
   "metadata": {},
   "source": [
    "#### Test the genomic analysis agent with different questions"
   ]
  },
  {
   "cell_type": "code",
   "execution_count": null,
   "id": "c8caece0-5d33-466a-a8eb-6bbbc2b85abd",
   "metadata": {
    "scrolled": true
   },
   "outputs": [],
   "source": [
    "# ---------------------------- Sample Question Bank --------------------------------------------\n",
    "\n",
    "# VCF Agent Questions\n",
    "vcf_agent_query_1 = \"Howmany patients are there in present cohort?\"\n",
    "vcf_agent_query_2 = \"How many pathogenic variants did you find in patient NA21135?\"\n",
    "\n",
    "# -----------------------------------------------------------------------------------------\n",
    "test_query = vcf_agent_query_2 # Change value here to test different questions\n",
    "\n",
    "print(f\"Testing orchestrator agent with query: {test_query}\")\n",
    "print(\"=\" * (39 + len(test_query)))\n",
    "\n",
    "try:\n",
    "    # Run the agent\n",
    "    response = orchestrator(test_query)\n",
    "    \n",
    "except Exception as e:\n",
    "    print(f\"Error during agent execution: {e}\")\n",
    "    import traceback\n",
    "    traceback.print_exc()"
   ]
  },
  {
   "cell_type": "code",
   "execution_count": null,
   "id": "7bb7d4b4-a799-4d81-b73b-568ca8a2aa01",
   "metadata": {
    "scrolled": true
   },
   "outputs": [],
   "source": [
    "response = orchestrator(\"Analyze the patients cohort and provide a comprehensive clinical summary including: individual risk stratification, population-level insights, shared pathogenic variants, personalized medicine recommendations, and clinical prioritization for genetic counseling. And let me know how do you assess the risk and prioritization?\")"
   ]
  },
  {
   "cell_type": "markdown",
   "id": "961c75ba-aeac-45c5-a965-003509eb6e04",
   "metadata": {},
   "source": [
    "### Agent Deployment"
   ]
  },
  {
   "cell_type": "markdown",
   "id": "76476789-847e-47ed-8039-da12b07fb081",
   "metadata": {},
   "source": [
    "In this section we deploy the genomic analysis agent using Bedrock AgentCore."
   ]
  },
  {
   "cell_type": "markdown",
   "id": "4b5b629d-4a5a-4b8c-80c1-a7e92573e177",
   "metadata": {},
   "source": [
    "#### Preparing your agent for deployment on AgentCore Runtime"
   ]
  },
  {
   "cell_type": "code",
   "execution_count": null,
   "id": "bf1bbd74-dcc2-444e-a21e-92fb1cc571ec",
   "metadata": {},
   "outputs": [],
   "source": [
    "%%writefile -a vcf_agent_marker.py\n",
    "\n",
    "from strands import Agent, tool\n",
    "import argparse\n",
    "import json\n",
    "from bedrock_agentcore.runtime import BedrockAgentCoreApp\n",
    "from strands.models import BedrockModel\n",
    "from bedrock_agentcore_starter_toolkit import Runtime\n",
    "from boto3.session import Session\n",
    "\n",
    "# Import everything from vcf_interpreters\n",
    "from vcf_interpreters import *\n",
    "\n",
    "boto_session = Session()\n",
    "\n",
    "# Define the genomic analysis agent tool\n",
    "@tool\n",
    "def vcf_genomic_analyst(query: str) -> str:\n",
    "    \"\"\"\n",
    "    Create vcf interpreter agent with lake formation tables using Strands framework\n",
    "\n",
    "    Args:\n",
    "        query: An information request from the vcf database\n",
    "\n",
    "    Returns:\n",
    "        A summary of the understanding of the user's query and the response.\n",
    "    \"\"\"\n",
    "    try:\n",
    "        vcf_sup_agent = Agent(\n",
    "            model=model,\n",
    "            tools=vcf_agent_tools,\n",
    "            system_prompt=vcf_agent_instruction\n",
    "        )\n",
    "        vcf_agent_response = vcf_sup_agent(query)\n",
    "        print(\"VCF Genomic Analysis Agent Response:\")\n",
    "        print(vcf_agent_response)\n",
    "        return str(vcf_agent_response)\n",
    "    except Exception as e:\n",
    "        print(f\"Error creating agent: {e}\")\n",
    "        return f\"Error in VCF analysis: {str(e)}\"\n",
    "\n",
    "# Define orchestrator agent configuration\n",
    "agent_name = \"vcf-genomic-analyst\"\n",
    "agent_description = \"VCF genomic analysis agent for clinical insights discovery\"\n",
    "agent_instruction = \"\"\"You are a genomic research assistant AI specialized in VCF (Variant Call Format) data analysis and genomic variant interpretation from AWS HealthOmics.\n",
    "Your primary task is to interpret user queries about genomic variants, analyze VCF data, and provide comprehensive genomic insights based on the data.\n",
    "\n",
    "You have access to:\n",
    "1. AWS HealthOmics Variant Store containing genomic variant data\n",
    "2. Lake Formation tables with processed genomic information\n",
    "3. VCF analysis tools and functions\n",
    "\n",
    "When users ask questions about:\n",
    "- Patient cohorts and variant statistics\n",
    "- Specific genomic variants and their clinical significance\n",
    "- Variant frequency and population data\n",
    "- Gene-based variant analysis\n",
    "- Clinical interpretation of variants\n",
    "\n",
    "You should:\n",
    "1. Use the vcf_genomic_analyst tool to query the genomic data\n",
    "2. Provide clear, scientifically accurate interpretations\n",
    "3. Include relevant clinical context when available\n",
    "4. Explain technical genomic concepts in accessible terms when needed\n",
    "\n",
    "Always ensure your responses are based on the actual data available in the system.\"\"\"\n",
    "\n",
    "# Create the orchestrator\n",
    "try:\n",
    "    orchestrator = Agent(\n",
    "        model=model,\n",
    "        system_prompt=agent_instruction,\n",
    "        callback_handler=None,\n",
    "        # associate genomic analysis tools\n",
    "        tools=[vcf_genomic_analyst]\n",
    "    )\n",
    "    print(\"✅ Orchestrator created successfully\")\n",
    "except Exception as e:\n",
    "    print(f\"❌ Error creating orchestrator: {e}\")\n",
    "    orchestrator = None\n",
    "\n",
    "app = BedrockAgentCoreApp()\n",
    "\n",
    "@app.entrypoint\n",
    "async def strands_agent_bedrock_streaming(payload):\n",
    "    \"\"\"\n",
    "    Invoke the agent with streaming capabilities\n",
    "    This function demonstrates how to implement streaming responses\n",
    "    with AgentCore Runtime using async generators\n",
    "    \"\"\"\n",
    "    user_input = payload.get(\"prompt\")\n",
    "    print(\"User input:\", user_input)\n",
    "    \n",
    "    if orchestrator is None:\n",
    "        error_response = {\"error\": \"Orchestrator not initialized\", \"type\": \"initialization_error\"}\n",
    "        print(f\"Initialization error: {error_response}\")\n",
    "        yield error_response\n",
    "        return\n",
    "    \n",
    "    try:\n",
    "        # Stream each chunk as it becomes available\n",
    "        async for event in orchestrator.stream_async(user_input):\n",
    "            if \"data\" in event:\n",
    "                yield event[\"data\"]\n",
    "    except Exception as e:\n",
    "        # Handle errors gracefully in streaming context\n",
    "        error_response = {\"error\": str(e), \"type\": \"stream_error\"}\n",
    "        print(f\"Streaming error: {error_response}\")\n",
    "        yield error_response\n",
    "\n",
    "if __name__ == \"__main__\":\n",
    "    app.run()"
   ]
  },
  {
   "cell_type": "markdown",
   "id": "49881ca8-b11a-42c7-9201-ccb0058ee5c0",
   "metadata": {},
   "source": [
    "### Deploying the agent to AgentCore Runtime"
   ]
  },
  {
   "cell_type": "markdown",
   "id": "cf7bbc20-65b7-4a97-8651-a0214c260ed2",
   "metadata": {},
   "source": [
    "Define agent name and retrieve runtime role"
   ]
  },
  {
   "cell_type": "code",
   "execution_count": null,
   "id": "7766c5a1-a222-415c-aebf-c46524936c93",
   "metadata": {},
   "outputs": [],
   "source": [
    "agent_name=\"<YOUR_AGENT_NAME>\"\n",
    "\n",
    "iam = boto3.client('iam')\n",
    "agentcore_iam_role = iam.get_role(RoleName='<YOUR_ROLE_NAME>')['Role']['Arn']\n",
    "agentcore_iam_role"
   ]
  },
  {
   "cell_type": "code",
   "execution_count": null,
   "id": "bdf7eb9b-495f-4cc1-9bc8-0198a0b0d77b",
   "metadata": {
    "scrolled": true
   },
   "outputs": [],
   "source": [
    "pip install git+https://github.com/aws/bedrock-agentcore-starter-toolkit.git"
   ]
  },
  {
   "cell_type": "markdown",
   "id": "90e2442e-81da-48ee-8af6-bf111e940aaf",
   "metadata": {},
   "source": [
    "#### Configure AgentCore Runtime deployment"
   ]
  },
  {
   "cell_type": "markdown",
   "id": "d4d3a742-5b3b-4b57-a0af-689228d1329a",
   "metadata": {},
   "source": [
    "During the configure step, your docker file will be generated based on your application code."
   ]
  },
  {
   "cell_type": "code",
   "execution_count": null,
   "id": "a7880014-5684-42c4-86c7-abc754869acf",
   "metadata": {},
   "outputs": [],
   "source": [
    "import boto3\n",
    "import os\n",
    "from bedrock_agentcore_starter_toolkit import Runtime\n",
    "from boto3.session import Session\n",
    "from botocore.config import Config\n",
    "boto_session = Session()\n",
    "region = boto_session.region_name\n",
    "\n",
    "client = boto3.client(service_name='bedrock-runtime', \n",
    "                      region_name='<YOUR_REGION>'\n",
    "                      )\n",
    "\n",
    "agentcore_runtime = Runtime()\n",
    "\n",
    "response = agentcore_runtime.configure(\n",
    "    entrypoint=\"vcf_agent_marker.py\",\n",
    "    execution_role=agentcore_iam_role,\n",
    "    auto_create_ecr=True,\n",
    "    requirements_file=\"runtime_requirements.txt\",\n",
    "    region=region,\n",
    "    agent_name=agent_name,\n",
    "    disable_otel=True\n",
    ")"
   ]
  },
  {
   "cell_type": "markdown",
   "id": "b2fdbb3f-f298-42ff-8823-f8990ac8be1e",
   "metadata": {},
   "source": [
    "#### Launching agent to AgentCore Runtime\n",
    "Now that we've got a docker file, let's launch the agent to the AgentCore Runtime. This will create the Amazon ECR repository and the AgentCore Runtime."
   ]
  },
  {
   "cell_type": "code",
   "execution_count": null,
   "id": "a579fb59-3114-4480-8afc-86d1c35d08d7",
   "metadata": {},
   "outputs": [],
   "source": [
    "launch_result = agentcore_runtime.launch(\n",
    "     auto_update_on_conflict=True\n",
    ")\n",
    "launch_result"
   ]
  },
  {
   "cell_type": "markdown",
   "id": "8138e4c0-8405-4a4d-abc7-70ef7e95c6bb",
   "metadata": {},
   "source": [
    "### Now the VCF Genomic Analysis Agent is ready to assist you!\n",
    "\n",
    "Invoking AgentCore Runtime\n",
    "\n",
    "Finally, we can invoke our AgentCore Runtime with a payload."
   ]
  },
  {
   "cell_type": "code",
   "execution_count": null,
   "id": "618bc040-8e72-4d86-a441-3bc581fdc497",
   "metadata": {},
   "outputs": [],
   "source": [
    "invoke_response = agentcore_runtime.invoke({\"prompt\": \"Howmany patients are there in present cohort?\"})"
   ]
  },
  {
   "cell_type": "code",
   "execution_count": null,
   "id": "bd66a647-0b90-4216-8ffc-94f33076a262",
   "metadata": {},
   "outputs": [],
   "source": [
    "invoke_response = agentcore_runtime.invoke({\"prompt\": \"How many pathogenic variants did you find in patient NA21142?\"})"
   ]
  },
  {
   "cell_type": "code",
   "execution_count": null,
   "id": "5c162f2f-79e3-4af4-a8b4-12696ffcc341",
   "metadata": {},
   "outputs": [],
   "source": [
    "invoke_response = agentcore_runtime.invoke({\"prompt\": \"Analyze patient NA21141 and provide individual risk stratification\"})"
   ]
  }
 ],
 "metadata": {
  "kernelspec": {
   "display_name": "conda_python3",
   "language": "python",
   "name": "conda_python3"
  },
  "language_info": {
   "codemirror_mode": {
    "name": "ipython",
    "version": 3
   },
   "file_extension": ".py",
   "mimetype": "text/x-python",
   "name": "python",
   "nbconvert_exporter": "python",
   "pygments_lexer": "ipython3",
   "version": "3.10.18"
  }
 },
 "nbformat": 4,
 "nbformat_minor": 5
}
