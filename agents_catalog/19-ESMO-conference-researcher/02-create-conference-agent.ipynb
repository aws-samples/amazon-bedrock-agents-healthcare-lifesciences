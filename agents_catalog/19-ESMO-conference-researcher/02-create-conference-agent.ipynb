{
 "cells": [
  {
   "cell_type": "markdown",
   "id": "09415850",
   "metadata": {},
   "source": [
    "## Conference Agent\n",
    "\n",
    "In this notebook we create the conference sub-agent that uses abstracts from ESMO [European Society for Medical Oncology](https://www.esmo.org/). Esmo is an international conference in oncology organised annually. You can download [ESMO Open] (https://www.esmoopen.com/) abstracts freely. This notebook uses abstracts from ESMO Open March edition. "
   ]
  },
  {
   "cell_type": "markdown",
   "id": "9895a4e6",
   "metadata": {},
   "source": [
    "Ensure the latest version of boto3 is shown below\n",
    "If not then run through setup_environment.ipynb in the 0-Notebook-environment/ folder"
   ]
  },
  {
   "cell_type": "code",
   "execution_count": 18,
   "id": "323cef43",
   "metadata": {},
   "outputs": [
    {
     "name": "stdout",
     "output_type": "stream",
     "text": [
      "boto3==1.38.14\n"
     ]
    }
   ],
   "source": [
    "!pip freeze | grep boto3"
   ]
  },
  {
   "cell_type": "code",
   "execution_count": null,
   "id": "04e6b5c8",
   "metadata": {},
   "outputs": [],
   "source": [
    "!pip install --upgrade -q -r requirements.txt"
   ]
  },
  {
   "cell_type": "markdown",
   "id": "996ca003",
   "metadata": {},
   "source": [
    "## Agent Creation\n",
    "In this section we create the sub-agent"
   ]
  },
  {
   "cell_type": "code",
   "execution_count": null,
   "id": "45701e85",
   "metadata": {},
   "outputs": [],
   "source": [
    "import boto3\n",
    "import os\n",
    "\n",
    "sts_client = boto3.client('sts')\n",
    "session = boto3.session.Session()\n",
    "\n",
    "account_id = sts_client.get_caller_identity()[\"Account\"]\n",
    "region = session.region_name\n",
    "account_id_suffix = account_id[:3]\n",
    "agent_suffix = f\"{region}-{account_id_suffix}\"\n",
    "s3_client = boto3.client('s3', region)\n",
    "bedrock_client = boto3.client('bedrock-runtime', region)\n",
    "\n",
    "agent_foundation_model = [\n",
    "    'anthropic.claude-3-haiku-20240307-v1:0',\n",
    "    'anthropic.claude-3-sonnet-20240229-v1:0',\n",
    "    'anthropic.claude-3-5-sonnet-20240620-v1:0'\n",
    "]"
   ]
  },
  {
   "cell_type": "code",
   "execution_count": 21,
   "id": "126af1d2",
   "metadata": {},
   "outputs": [],
   "source": [
    "agent_name = 'test2-esmo-collaborator-agent'\n",
    "agent_description = \"Collaborator agent responsible for handlign questions about ESMO abstracts\"\n",
    "agent_instruction = \"\"\"You are a medical research assistant AI specialized in summarizing internal and external evidence related to oncology. For conference research, make use of the knowledge base to retrieve relevant information. Always cite abstract titles. \"\"\" "
   ]
  },
  {
   "cell_type": "markdown",
   "id": "7bb10c36",
   "metadata": {},
   "source": [
    "Instantiate agent with the desired configuration"
   ]
  },
  {
   "cell_type": "code",
   "execution_count": 35,
   "id": "7eef9115",
   "metadata": {},
   "outputs": [],
   "source": [
    "import sys\n",
    "\n",
    "sys.path.insert(0, \".\")\n",
    "sys.path.insert(1, \"..\")\n",
    "\n",
    "from utils.bedrock_agent_helper import (\n",
    "    AgentsForAmazonBedrock\n",
    ")\n",
    "from utils.knowledge_base_helper import (\n",
    "    KnowledgeBasesForAmazonBedrock\n",
    ")\n",
    "agents = AgentsForAmazonBedrock()\n",
    "kb = KnowledgeBasesForAmazonBedrock()"
   ]
  },
  {
   "cell_type": "code",
   "execution_count": null,
   "id": "016e09a7",
   "metadata": {},
   "outputs": [],
   "source": [
    "\n",
    "kb_info = kb.get_kb(kb_id)\n",
    "kb_arn = kb_info['knowledgeBase']['knowledgeBaseArn']\n",
    "#kb_id = <ENTER KB ID HERE> if you cannot pass variable between notebooks."
   ]
  },
  {
   "cell_type": "code",
   "execution_count": 27,
   "id": "0185fda8",
   "metadata": {},
   "outputs": [],
   "source": [
    "kb_config = {\n",
    "    'kb_id': kb_id,\n",
    "    'kb_instruction': 'Access the knowledge base when users ask about ESMO abstracts or latest conference information.'\n",
    "}"
   ]
  },
  {
   "cell_type": "code",
   "execution_count": 24,
   "id": "e7d4c3fa",
   "metadata": {},
   "outputs": [
    {
     "data": {
      "text/plain": [
       "('RZL7IHMD0G',\n",
       " 'TSTALIASID',\n",
       " 'arn:aws:bedrock:us-east-1:774305571746:agent-alias/RZL7IHMD0G/TSTALIASID')"
      ]
     },
     "execution_count": 24,
     "metadata": {},
     "output_type": "execute_result"
    }
   ],
   "source": [
    "agents = AgentsForAmazonBedrock()\n",
    "\n",
    "conference_agent = agents.create_agent(\n",
    "    agent_name,\n",
    "    agent_description,\n",
    "    agent_instruction,\n",
    "    agent_foundation_model,\n",
    "    code_interpretation=False,\n",
    "    verbose=False\n",
    ")\n",
    "\n",
    "conference_agent"
   ]
  },
  {
   "cell_type": "markdown",
   "id": "edfe843a",
   "metadata": {},
   "source": [
    "Extract useful agent information"
   ]
  },
  {
   "cell_type": "code",
   "execution_count": 25,
   "id": "4b81c1b4",
   "metadata": {},
   "outputs": [
    {
     "data": {
      "text/plain": [
       "('RZL7IHMD0G', 'arn:aws:bedrock:us-east-1:774305571746:agent/RZL7IHMD0G')"
      ]
     },
     "execution_count": 25,
     "metadata": {},
     "output_type": "execute_result"
    }
   ],
   "source": [
    "conference_agent_id = conference_agent[0]\n",
    "conference_agent_arn = f\"arn:aws:bedrock:{region}:{account_id}:agent/{conference_agent_id}\"\n",
    "\n",
    "conference_agent_id, conference_agent_arn"
   ]
  },
  {
   "cell_type": "markdown",
   "id": "5b0b7d8c",
   "metadata": {},
   "source": [
    "## Associate Knowledge Base with Agent\n",
    "Finally, we can associate the new knowledge base with the agent using the AssociateAgentKnowledgeBase API from boto3"
   ]
  },
  {
   "cell_type": "code",
   "execution_count": 29,
   "id": "0698e8b2",
   "metadata": {},
   "outputs": [],
   "source": [
    "agents.associate_kb_with_agent(\n",
    "    conference_agent[0], kb_config['kb_instruction'], kb_config['kb_id']\n",
    ")"
   ]
  },
  {
   "cell_type": "markdown",
   "id": "c28571f2",
   "metadata": {},
   "source": [
    "## Test your agent"
   ]
  },
  {
   "cell_type": "code",
   "execution_count": 39,
   "id": "aafa92a2",
   "metadata": {},
   "outputs": [
    {
     "name": "stdout",
     "output_type": "stream",
     "text": [
      "The LEGACY project aimed to assess molecular hallmarks of gastric cancer using validated and emerging biomarkers. However, the specific key biomarkers are not explicitly mentioned in the given search result. The study involved an integrative analysis of clinical, epidemiological, and multi-omics data from geographically diverse samples, comparing European and Latin American cohorts. The project included immunohistochemistry (IHC) and in situ hybridization (ISH) assays, which are commonly used techniques for biomarker analysis, but the exact biomarkers assessed are not specified in the provided information.\n",
      "\n"
     ]
    }
   ],
   "source": [
    "import time\n",
    "time.sleep(30)\n",
    "bedrock_agent_runtime_client = boto3.client('bedrock-agent-runtime')\n",
    "\n",
    "response = bedrock_agent_runtime_client.retrieve_and_generate(\n",
    "    input={\n",
    "        \"text\": \"What were the key biomarkers assessed in gastric cancer samples in the LEGACY project?\"\n",
    "    },\n",
    "    retrieveAndGenerateConfiguration={\n",
    "        \"type\": \"KNOWLEDGE_BASE\",\n",
    "        \"knowledgeBaseConfiguration\": {\n",
    "            'knowledgeBaseId': kb_id,\n",
    "            \"modelArn\": \"arn:aws:bedrock:{}::foundation-model/{}\".format(region, agent_foundation_model[2]),\n",
    "            \"retrievalConfiguration\": {\n",
    "                \"vectorSearchConfiguration\": {\n",
    "                    \"numberOfResults\":1\n",
    "                } \n",
    "            }\n",
    "        }\n",
    "    }\n",
    ")\n",
    "\n",
    "print(response['output']['text'],end='\\n'*2)"
   ]
  }
 ],
 "metadata": {
  "kernelspec": {
   "display_name": "Python 3",
   "language": "python",
   "name": "python3"
  },
  "language_info": {
   "codemirror_mode": {
    "name": "ipython",
    "version": 3
   },
   "file_extension": ".py",
   "mimetype": "text/x-python",
   "name": "python",
   "nbconvert_exporter": "python",
   "pygments_lexer": "ipython3",
   "version": "3.9.6"
  }
 },
 "nbformat": 4,
 "nbformat_minor": 5
}
