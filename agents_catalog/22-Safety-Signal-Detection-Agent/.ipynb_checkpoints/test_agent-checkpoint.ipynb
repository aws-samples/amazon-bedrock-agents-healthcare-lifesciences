{
 "cells": [
  {
   "cell_type": "markdown",
   "metadata": {},
   "source": [
    "# Safety Signal Detection Agent Test Notebook\n",
    "\n",
    "This notebook demonstrates the usage of the Safety Signal Detection Agent for pharmacovigilance analysis."
   ]
  },
  {
   "cell_type": "code",
   "execution_count": null,
   "metadata": {},
   "source": [
    "import boto3\n",
    "import json\n",
    "from datetime import datetime, timedelta\n",
    "import pandas as pd\n",
    "import matplotlib.pyplot as plt\n",
    "import seaborn as sns\n",
    "\n",
    "# Configure Bedrock Agent client\n",
    "bedrock_agent_runtime = boto3.client('bedrock-agent-runtime', region_name='us-west-2')"
   ]
  },
  {
   "cell_type": "markdown",
   "metadata": {},
   "source": [
    "## Test 1: Adverse Event Analysis\n",
    "\n",
    "Test the agent's ability to analyze adverse events for a specific drug product."
   ]
  },
  {
   "cell_type": "code",
   "execution_count": null,
   "metadata": {},
   "source": [
    "def invoke_agent(prompt):\n",
    "    response = bedrock_agent_runtime.invoke_agent(\n",
    "        agentId='PJ2THPH84J',\n",
    "        agentAliasId='5TX1UOXKNB',\n",
    "        sessionId='test-session-1',\n",
    "        inputText=prompt\n",
    "    )\n",
    "    return response['completion']\n",
    "\n",
    "# Test adverse event analysis\n",
    "prompt = \"Analyze adverse events for metformin over the past 6 months.\"\n",
    "response = invoke_agent(prompt)\n",
    "print(response)"
   ]
  },
  {
   "cell_type": "markdown",
   "metadata": {},
   "source": [
    "## Test 2: Evidence Assessment\n",
    "\n",
    "Test the agent's ability to gather and assess evidence for detected signals."
   ]
  },
  {
   "cell_type": "code",
   "execution_count": null,
   "metadata": {},
   "source": [
    "# Test evidence assessment\n",
    "prompt = \"Find evidence for the association between metformin and lactic acidosis.\"\n",
    "response = invoke_agent(prompt)\n",
    "print(response)"
   ]
  },
  {
   "cell_type": "markdown",
   "metadata": {},
   "source": [
    "## Test 3: Report Generation\n",
    "\n",
    "Test the agent's ability to generate comprehensive reports with visualizations."
   ]
  },
  {
   "cell_type": "code",
   "execution_count": null,
   "metadata": {},
   "source": [
    "# Test report generation\n",
    "prompt = \"Generate a safety signal detection report for metformin including trend analysis and evidence assessment.\"\n",
    "response = invoke_agent(prompt)\n",
    "print(response)"
   ]
  },
  {
   "cell_type": "markdown",
   "metadata": {},
   "source": [
    "## Test 4: Error Handling\n",
    "\n",
    "Test the agent's response to invalid inputs and error conditions."
   ]
  },
  {
   "cell_type": "code",
   "execution_count": null,
   "metadata": {},
   "source": [
    "# Test invalid product name\n",
    "prompt = \"Analyze adverse events for nonexistentdrug123.\"\n",
    "response = invoke_agent(prompt)\n",
    "print(response)\n",
    "\n",
    "# Test invalid time period\n",
    "prompt = \"Analyze adverse events for metformin over the past 100 years.\"\n",
    "response = invoke_agent(prompt)\n",
    "print(response)"
   ]
  },
  {
   "cell_type": "markdown",
   "metadata": {},
   "source": [
    "## Test 5: Complex Queries\n",
    "\n",
    "Test the agent's ability to handle complex, multi-step queries."
   ]
  },
  {
   "cell_type": "code",
   "execution_count": null,
   "metadata": {},
   "source": [
    "# Test complex query\n",
    "prompt = \"\"\"Analyze adverse events for metformin over the past 6 months, \n",
    "focusing on cardiovascular events. Then find supporting evidence from \n",
    "literature and generate a report with visualizations.\"\"\"\n",
    "response = invoke_agent(prompt)\n",
    "print(response)"
   ]
  },
  {
   "cell_type": "markdown",
   "metadata": {},
   "source": [
    "## Test Results Summary\n",
    "\n",
    "- Adverse Event Analysis: [Pass/Fail]\n",
    "- Evidence Assessment: [Pass/Fail]\n",
    "- Report Generation: [Pass/Fail]\n",
    "- Error Handling: [Pass/Fail]\n",
    "- Complex Queries: [Pass/Fail]\n",
    "\n",
    "### Notes\n",
    "- Document any issues or improvements needed\n",
    "- Record API response times and performance metrics\n",
    "- Note any rate limiting or throttling encountered"
   ]
  }
 ],
 "metadata": {
  "kernelspec": {
   "display_name": "Python 3",
   "language": "python",
   "name": "python3"
  },
  "language_info": {
   "codemirror_mode": {
    "name": "ipython",
    "version": 3
   },
   "file_extension": ".py",
   "mimetype": "text/x-python",
   "name": "python",
   "nbconvert_exporter": "python",
   "pygments_lexer": "ipython3",
   "version": "3.12.0"
  }
 },
 "nbformat": 4,
 "nbformat_minor": 4
}
