{
 "cells": [
  {
   "cell_type": "markdown",
   "metadata": {},
   "source": [
    "# Safety Signal Detection Agent Test\n",
    "\n",
    "This notebook demonstrates the usage of the Safety Signal Detection Agent for analyzing adverse events and detecting safety signals."
   ]
  },
  {
   "cell_type": "code",
   "execution_count": null,
   "metadata": {},
   "source": [
    "import boto3\n",
    "import json\n",
    "from datetime import datetime, timedelta\n",
    "\n",
    "# Initialize Bedrock Agent Runtime client\n",
    "bedrock_agent_runtime = boto3.client('bedrock-agent-runtime', region_name='us-west-2')"
   ]
  },
  {
   "cell_type": "code",
   "execution_count": null,
   "metadata": {},
   "source": [
    "# Test parameters\n",
    "agent_id = 'PJ2THPH84J'\n",
    "agent_alias_id = 'TSTALIASID'\n",
    "session_id = f'test-session-{datetime.now().strftime(\"%Y%m%d-%H%M%S\")}'"
   ]
  },
  {
   "cell_type": "code",
   "execution_count": null,
   "metadata": {},
   "source": [
    "def invoke_agent(prompt):\n",
    "    \"\"\"Invoke the Bedrock Agent with a prompt\"\"\"\n",
    "    try:\n",
    "        response = bedrock_agent_runtime.invoke_agent(\n",
    "            agentId=agent_id,\n",
    "            agentAliasId=agent_alias_id,\n",
    "            sessionId=session_id,\n",
    "            inputText=prompt\n",
    "        )\n",
    "        \n",
    "        # Extract completion from response\n",
    "        completion = response.get('completion', '')\n",
    "        print(f\"Agent Response:\\n{completion}\\n\")\n",
    "        return completion\n",
    "    except Exception as e:\n",
    "        print(f\"Error invoking agent: {str(e)}\")\n",
    "        return None"
   ]
  },
  {
   "cell_type": "markdown",
   "metadata": {},
   "source": [
    "## Test Case 1: Basic Safety Signal Analysis\n",
    "\n",
    "Test the basic functionality of analyzing adverse events for a product."
   ]
  },
  {
   "cell_type": "code",
   "execution_count": null,
   "metadata": {},
   "source": [
    "prompt = \"Analyze adverse events for metformin in the last 6 months.\"\n",
    "response = invoke_agent(prompt)"
   ]
  },
  {
   "cell_type": "markdown",
   "metadata": {},
   "source": [
    "## Test Case 2: Custom Analysis Period\n",
    "\n",
    "Test the ability to specify a custom analysis period."
   ]
  },
  {
   "cell_type": "code",
   "execution_count": null,
   "metadata": {},
   "source": [
    "prompt = \"Analyze adverse events for ibuprofen in the last 3 months with a signal threshold of 1.5.\"\n",
    "response = invoke_agent(prompt)"
   ]
  },
  {
   "cell_type": "markdown",
   "metadata": {},
   "source": [
    "## Test Case 3: Error Handling\n",
    "\n",
    "Test the agent's response to invalid input."
   ]
  },
  {
   "cell_type": "code",
   "execution_count": null,
   "metadata": {},
   "source": [
    "prompt = \"Analyze adverse events for the last 6 months.\"  # Missing product name\n",
    "response = invoke_agent(prompt)"
   ]
  },
  {
   "cell_type": "markdown",
   "metadata": {},
   "source": [
    "## Test Case 4: Complex Query\n",
    "\n",
    "Test the agent's ability to handle more complex queries."
   ]
  },
  {
   "cell_type": "code",
   "execution_count": null,
   "metadata": {},
   "source": [
    "prompt = \"Can you analyze adverse events for paracetamol in the last 12 months and focus on serious adverse events with high PRR values?\"\n",
    "response = invoke_agent(prompt)"
   ]
  }
 ],
 "metadata": {
  "kernelspec": {
   "display_name": "Python 3",
   "language": "python",
   "name": "python3"
  },
  "language_info": {
   "codemirror_mode": {
    "name": "ipython",
    "version": 3
   },
   "file_extension": ".py",
   "mimetype": "text/x-python",
   "name": "python",
   "nbconvert_exporter": "python",
   "pygments_lexer": "ipython3",
   "version": "3.12.6"
  }
 },
 "nbformat": 4,
 "nbformat_minor": 4
}
