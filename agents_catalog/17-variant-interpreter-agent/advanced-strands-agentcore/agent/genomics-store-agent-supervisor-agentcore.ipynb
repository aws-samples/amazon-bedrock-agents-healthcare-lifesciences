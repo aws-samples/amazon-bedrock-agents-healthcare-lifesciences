{
 "cells": [
  {
   "cell_type": "markdown",
   "id": "40bc8c01-eb98-4fba-a006-03d4629e739a",
   "metadata": {},
   "source": [
    "## Create Genomics Store Supervisor Agent\n",
    "\n",
    "**Updated Version - With Quality-Based Filtering**"
   ]
  },
  {
   "cell_type": "markdown",
   "id": "36e378c1-23de-4fcd-b723-65ae82b03559",
   "metadata": {},
   "source": [
    "In this notebook we create the Genomics Store Supervisor Agent that will interact with **genomicsvariantstore** and **genomicsannotationstore** directly using AWS HealthOmics APIs and Athena queries. This version includes comprehensive quality filtering and uses real HealthOmics store queries with dynamic SQL generation capabilities.\n",
    "\n",
    "### Key Features:\n",
    "- Direct queries to genomicsvariantstore and genomicsannotationstore\n",
    "- Dynamic SQL query generation using AI\n",
    "- Proper VEP and ClinVar annotation handling\n",
    "- **Quality-based filtering**: All variant analyses automatically apply:\n",
    "  - `v.qual > 30 AND contains(v.filters, 'PASS')` for standard quality\n",
    "  - `v.qual > 50 AND contains(v.filters, 'PASS')` for high quality\n",
    "- No DynamoDB pipeline tracking dependency\n",
    "- Real genomic variant analysis functions\n",
    "- No LIMIT clauses - complete result sets"
   ]
  },
  {
   "cell_type": "markdown",
   "id": "772d7322-a753-4a40-840c-fec624c91e5c",
   "metadata": {},
   "source": [
    "#### Install required packages for genomics store analysis"
   ]
  },
  {
   "cell_type": "code",
   "execution_count": null,
   "id": "b8f4c2a1-2345-4567-8901-234567890124",
   "metadata": {},
   "outputs": [],
   "source": [
    "!pip install --upgrade boto3\n",
    "!pip install pandas numpy"
   ]
  },
  {
   "cell_type": "markdown",
   "id": "c9e5d3b2-3456-5678-9012-345678901234",
   "metadata": {},
   "source": [
    "#### Import required libraries and initialize AWS clients"
   ]
  },
  {
   "cell_type": "code",
   "execution_count": null,
   "id": "c9e5d3b2-3456-5678-9012-345678901235",
   "metadata": {},
   "outputs": [],
   "source": [
    "import boto3\n",
    "import json\n",
    "import time\n",
    "from datetime import datetime\n",
    "import pandas as pd\n",
    "import numpy as np\n",
    "\n",
    "# Import genomics store modules\n",
    "from ./tools/genomics_store_interpreters import (\n",
    "    genomics_store_agent_name,\n",
    "    genomics_store_agent_description,\n",
    "    genomics_store_agent_instruction,\n",
    "    genomics_store_agent_tools,\n",
    "    model\n",
    ")\n",
    "\n",
    "from ./tools/genomics_store_functions import (\n",
    "    REGION,\n",
    "    ACCOUNT_ID,\n",
    "    VARIANT_STORE_NAME,\n",
    "    ANNOTATION_STORE_NAME,\n",
    "    LAKE_FORMATION_DATABASE,\n",
    "    get_stores_information,\n",
    "    get_available_samples_from_variant_store,\n",
    "    execute_dynamic_query\n",
    ")\n",
    "\n",
    "# Initialize AWS clients\n",
    "session = boto3.Session()\n",
    "region = session.region_name or 'us-east-1'\n",
    "sts_client = boto3.client('sts')\n",
    "account_id = sts_client.get_caller_identity()['Account']\n",
    "\n",
    "print(f\"AWS Account: {account_id}\")\n",
    "print(f\"Region: {region}\")\n",
    "print(f\"Variant Store: {VARIANT_STORE_NAME}\")\n",
    "print(f\"Annotation Store: {ANNOTATION_STORE_NAME}\")\n",
    "print(f\"Database: {LAKE_FORMATION_DATABASE}\")\n",
    "print(\"\\n✅ No DynamoDB dependency - using direct store queries\")\n",
    "print(\"✅ Quality-based filtering enabled\")"
   ]
  },
  {
   "cell_type": "markdown",
   "id": "d0f6e4c3-4567-6789-0123-456789012345",
   "metadata": {},
   "source": [
    "#### Initialize Bedrock AgentCore client"
   ]
  },
  {
   "cell_type": "code",
   "execution_count": null,
   "id": "d0f6e4c3-4567-6789-0123-456789012346",
   "metadata": {},
   "outputs": [],
   "source": [
    "# Initialize Bedrock AgentCore client\n",
    "bedrock_agent_client = boto3.client('bedrock-agent', region_name=region)\n",
    "bedrock_runtime_client = boto3.client('bedrock-agent-runtime', region_name=region)\n",
    "\n",
    "print(\"✅ Bedrock AgentCore clients initialized\")"
   ]
  },
  {
   "cell_type": "code",
   "execution_count": null,
   "id": "090fcc22-727e-464d-8f63-17f252882f64",
   "metadata": {},
   "outputs": [],
   "source": [
    "from magic_helper import register_cell_magic"
   ]
  },
  {
   "cell_type": "markdown",
   "id": "27a8e5d3-6c87-4c4b-b50a-5012ade7efa5",
   "metadata": {},
   "source": [
    "### Preparing your agent for deployment on AgentCore Runtime"
   ]
  },
  {
   "cell_type": "code",
   "execution_count": null,
   "id": "124f0182-6865-4c7b-9f3a-c1159dba7afc",
   "metadata": {},
   "outputs": [],
   "source": [
    "%%writefile ./main.py\n",
    "\n",
    "\n",
    "from strands import Agent, tool\n",
    "import argparse\n",
    "import json\n",
    "from bedrock_agentcore.runtime import BedrockAgentCoreApp\n",
    "from strands.models import BedrockModel\n",
    "from bedrock_agentcore_starter_toolkit import Runtime\n",
    "from boto3.session import Session\n",
    "\n",
    "# Import everything from vcf_interpreters\n",
    "from genomics_store_interpreters import *\n",
    "\n",
    "boto_session = Session()\n",
    "# Define the model\n",
    "bedrock_model = BedrockModel(\n",
    "    model_id=\"us.anthropic.claude-3-7-sonnet-20250219-v1:0\", \n",
    "    region_name=region,\n",
    "    temperature=0.1,\n",
    "    streaming=False\n",
    ")\n",
    "\n",
    "# Define orchestrator agent configuration below\n",
    "agent_name = \"vcf-agent-direct\"\n",
    "agent_description = \"VCF direct agent for clinical insights discovery\"\n",
    "agent_instruction = \"\"\"You are an advanced genomics analysis assistant specialized in clinical variant interpretation using AWS HealthOmics genomicsvariantstore and genomicsannotationstore.\n",
    "\n",
    "Your primary focus is on clinically actionable genomic analysis with these specialized capabilities:\n",
    "\n",
    "CORE CLINICAL TOOLS:\n",
    "1. **Gene-Specific Analysis** (query_variants_by_gene): For targeted gene panels, cancer genes (BRCA1/2, TP53), pharmacogenes (CYP2D6, CYP2C19)\n",
    "2. **Chromosomal Analysis** (query_variants_by_chromosome): For chromosomal abnormalities, CNV analysis, specific genomic regions\n",
    "3. **Population Frequency Analysis** (analyze_allele_frequencies): For rare disease variants, population genetics, allele frequency comparisons with 1000 Genomes\n",
    "4. **Sample Comparison** (compare_sample_variants): For family studies, cohort analysis, population stratification\n",
    "5. **Dynamic Queries** (execute_dynamic_genomics_query): For complex clinical questions requiring custom SQL\n",
    "\n",
    "CLINICAL DECISION SUPPORT:\n",
    "- Always apply quality filtering (qual > 30 AND PASS filters)\n",
    "- Prioritize variants by clinical significance and functional impact\n",
    "- Include 1000 Genomes frequency data for population context\n",
    "- Provide actionable clinical interpretations\n",
    "- Include source of datasets like clinvar for 'Pathogenic' or \"Benign' and VEP for defining 'High' or 'low' impact variants \n",
    "\n",
    "TOOL SELECTION STRATEGY:\n",
    "1. **For specific genes**: Use query_variants_by_gene (e.g., \"BRCA1 variants\", \"CYP2D6 pharmacogenomics\")\n",
    "2. **For chromosomal regions**: Use query_variants_by_chromosome (e.g., \"chromosome 17 variants\", \"chr13:32000000-33000000\")\n",
    "3. **For frequency analysis**: Use analyze_allele_frequencies (e.g., \"rare variants\", \"population frequencies\")\n",
    "4. **For cohort studies**: Use compare_sample_variants (e.g., \"compare samples\", \"family analysis\")\n",
    "5. **For complex queries**: Use execute_dynamic_genomics_query\n",
    "\n",
    "EXECUTION FLOW:\n",
    "1. Understand the user query\n",
    "2. Select the MOST APPROPRIATE single tool\n",
    "3. Call the tool with proper parameters\n",
    "4. Present the results immediately\n",
    "5. DO NOT call multiple tools unless user explicitly requests for detailed analysis\n",
    "\n",
    "Remember: Focus on clinically actionable insights that can inform patient care, genetic counseling, and treatment decisions.\n",
    "\"\"\"\n",
    "\n",
    "# Create the direct agent with genomics tools\n",
    "try:\n",
    "    direct_agent = Agent(\n",
    "        model=bedrock_model,\n",
    "        system_prompt=agent_instruction,\n",
    "        tools=genomics_store_agent_tools\n",
    "    )\n",
    "    print(\"✅ Direct agent created successfully\")\n",
    "except Exception as e:\n",
    "    print(f\"❌ Error creating direct agent: {e}\")\n",
    "    direct_agent = None\n",
    "\n",
    "app = BedrockAgentCoreApp()\n",
    "\n",
    "@app.entrypoint\n",
    "async def strands_agent_bedrock_streaming(payload):\n",
    "    \"\"\"\n",
    "    Invoke the agent with streaming capabilities\n",
    "    \"\"\"\n",
    "    user_input = payload.get(\"prompt\")\n",
    "    \n",
    "    if direct_agent is None:\n",
    "        yield \"Error: Direct agent not initialized\"\n",
    "        return\n",
    "    \n",
    "    try:\n",
    "        tool_name = None\n",
    "        async for event in direct_agent.stream_async(user_input):\n",
    "            if (\n",
    "                \"current_tool_use\" in event\n",
    "                and event[\"current_tool_use\"].get(\"name\") != tool_name\n",
    "            ):\n",
    "                tool_name = event[\"current_tool_use\"][\"name\"]\n",
    "                yield f\"\\n\\n🔧 Using tool: {tool_name}\\n\\n\"\n",
    "            \n",
    "            if \"data\" in event:\n",
    "                yield event[\"data\"]\n",
    "                \n",
    "    except Exception as e:\n",
    "        error_response = {\"error\": str(e), \"type\": \"stream_error\"}\n",
    "        print(f\"Streaming error: {error_response}\")\n",
    "        yield error_response\n",
    "\n",
    "if __name__ == \"__main__\":\n",
    "    app.run()\n"
   ]
  },
  {
   "cell_type": "markdown",
   "id": "eede1a59-a995-49fa-baaf-45416d7f6640",
   "metadata": {},
   "source": [
    "##### 1. Create infrastructure"
   ]
  },
  {
   "cell_type": "markdown",
   "id": "fa8323bf-7f62-44b8-a751-8a7b052f55da",
   "metadata": {},
   "source": [
    "### Create Memory"
   ]
  },
  {
   "cell_type": "code",
   "execution_count": null,
   "id": "9ab21904-bded-48cc-adf7-416b849b70a5",
   "metadata": {},
   "outputs": [],
   "source": [
    "!python ./scripts/agentcore_memory.py create --name genomicsapp"
   ]
  },
  {
   "cell_type": "code",
   "execution_count": null,
   "id": "g3h9i7f6-7890-9012-3456-789012345679",
   "metadata": {},
   "outputs": [],
   "source": [
    "# Deploy the agent to Bedrock AgentCore\n",
    "deployment_name=\"genomics_store_agent_6\"\n",
    "\n",
    "iam = boto3.client('iam')\n",
    "agentcore_iam_role = iam.get_role(RoleName='genomics-vep-pipeline-agent-role')['Role']['Arn']\n",
    "agentcore_iam_role"
   ]
  },
  {
   "cell_type": "code",
   "execution_count": null,
   "id": "6cbb6c72-5e02-4adb-90f8-385931fcfdbd",
   "metadata": {},
   "outputs": [],
   "source": [
    "# Try running in the terminal\n",
    "# $agentcore configure --entrypoint agent/main.py -er arn:aws:iam::066466276140:role/genomics-vep-pipeline-agent-role --name genomicsapp_vcf_agent_supervisor --requirements-file runtime_requirements.txt\n",
    "# $agentcore launch --auto-update-on-conflict\n",
    "# $streamlit run app.py --server.port 8501 --theme.primaryColor \"#667eea\""
   ]
  },
  {
   "cell_type": "markdown",
   "id": "79c28f7c",
   "metadata": {},
   "source": [
    "## Or"
   ]
  },
  {
   "cell_type": "markdown",
   "id": "1976c476-100e-4ec4-950e-b540cf9f3014",
   "metadata": {},
   "source": [
    "### Configure AgentCore Runtime deployment¶"
   ]
  },
  {
   "cell_type": "markdown",
   "id": "08540a2d-262f-4c76-871f-0eaabdcf2f1c",
   "metadata": {},
   "source": [
    "During the configure step, your docker file will be generated based on your application code."
   ]
  },
  {
   "cell_type": "code",
   "execution_count": null,
   "id": "96689d97-8c37-4bb7-bea4-67b3c7e770e4",
   "metadata": {},
   "outputs": [],
   "source": [
    "import boto3\n",
    "import os\n",
    "from bedrock_agentcore_starter_toolkit import Runtime\n",
    "from boto3.session import Session\n",
    "from botocore.config import Config\n",
    "boto_session = Session()\n",
    "region = boto_session.region_name\n",
    "\n",
    "client = boto3.client(service_name='bedrock-runtime', \n",
    "                      region_name='us-east-1'\n",
    "                      )\n",
    "\n",
    "agentcore_runtime = Runtime()\n",
    "\n",
    "response = agentcore_runtime.configure(\n",
    "    entrypoint=\"vcf_agent_marker.py\",\n",
    "    execution_role=agentcore_iam_role,\n",
    "    auto_create_ecr=True,\n",
    "    requirements_file=\"runtime_requirements.txt\",\n",
    "    region=region,\n",
    "    agent_name=\"vcf_agent_supervisor\",\n",
    "    disable_otel=True\n",
    ")"
   ]
  },
  {
   "cell_type": "markdown",
   "id": "9c04a929-4be3-42a2-9a5c-5d103cf0ff0f",
   "metadata": {},
   "source": [
    "## Launching agent to AgentCore Runtime\n",
    "\n",
    "Now that we've got a docker file, let's launch the agent to the AgentCore Runtime. This will create the Amazon ECR repository and the AgentCore Runtime."
   ]
  },
  {
   "cell_type": "code",
   "execution_count": null,
   "id": "1a559ebe-14aa-49f9-adec-c6690ea28423",
   "metadata": {},
   "outputs": [],
   "source": [
    "launch_result = agentcore_runtime.launch(\n",
    "     auto_update_on_conflict=True\n",
    ")\n",
    "launch_result"
   ]
  },
  {
   "cell_type": "markdown",
   "id": "h4i0j8g7-8901-0123-4567-890123456789",
   "metadata": {},
   "source": [
    "#### Interactive Genomics Chat Interface"
   ]
  },
  {
   "cell_type": "code",
   "execution_count": null,
   "id": "h4i0j8g7-8901-0123-4567-890123456790",
   "metadata": {},
   "outputs": [],
   "source": [
    "invoke_response = agentcore_runtime.invoke({\"prompt\": \"Howmany patients are there in present cohort?\"})"
   ]
  },
  {
   "cell_type": "markdown",
   "id": "8e14a3b9-d545-4000-b4c3-56a755b40453",
   "metadata": {},
   "source": [
    "## Integrate Agentcore Runtime in Streamlite app"
   ]
  },
  {
   "cell_type": "code",
   "execution_count": null,
   "id": "75a8ba9f-4dc6-4346-acfc-dd6ef379b5a0",
   "metadata": {},
   "outputs": [],
   "source": [
    "!pip install -r ../streamlit_requirements.txt"
   ]
  },
  {
   "cell_type": "code",
   "execution_count": null,
   "id": "e75c207a-8210-4d2e-9095-c8955a3663a0",
   "metadata": {},
   "outputs": [],
   "source": [
    "!streamlit run ../app.py --server.port 8501 --theme.primaryColor \"#667eea\""
   ]
  },
  {
   "cell_type": "markdown",
   "id": "6d7f0ec8-9b2a-4fa6-a0e9-d090eece9fab",
   "metadata": {},
   "source": [
    "## Use your sagemaker link: https://\\<sagemaker-notebook-instance-name\\>.notebook.\\<region_name\\>.sagemaker.aws/proxy/8501/ in the web-browser to chat with your agent"
   ]
  }
 ],
 "metadata": {
  "kernelspec": {
   "display_name": "conda_pytorch_p310",
   "language": "python",
   "name": "conda_pytorch_p310"
  },
  "language_info": {
   "codemirror_mode": {
    "name": "ipython",
    "version": 3
   },
   "file_extension": ".py",
   "mimetype": "text/x-python",
   "name": "python",
   "nbconvert_exporter": "python",
   "pygments_lexer": "ipython3",
   "version": "3.10.14"
  }
 },
 "nbformat": 4,
 "nbformat_minor": 5
}
